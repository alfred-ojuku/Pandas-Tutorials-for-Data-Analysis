{
 "cells": [
  {
   "cell_type": "markdown",
   "id": "da684499",
   "metadata": {},
   "source": [
    "## Dealing with NaN's\n",
    "### NaN in python"
   ]
  },
  {
   "cell_type": "code",
   "execution_count": 1,
   "id": "93c49e2f",
   "metadata": {},
   "outputs": [
    {
     "name": "stdout",
     "output_type": "stream",
     "text": [
      "nan nan nan nan\n"
     ]
    }
   ],
   "source": [
    "n1 = float(\"nan\")\n",
    "n2 = float(\"Nan\")\n",
    "n3 = float(\"NaN\")\n",
    "n4 = float(\"NAN\")\n",
    "print(n1, n2, n3, n4)"
   ]
  },
  {
   "cell_type": "code",
   "execution_count": 2,
   "id": "68a023ca",
   "metadata": {},
   "outputs": [
    {
     "name": "stdout",
     "output_type": "stream",
     "text": [
      "nan\n"
     ]
    }
   ],
   "source": [
    "import math\n",
    "\n",
    "n1 = math.nan\n",
    "print(n1)"
   ]
  },
  {
   "cell_type": "markdown",
   "id": "4198d675",
   "metadata": {},
   "source": [
    "### NaN in pandas\n",
    "### Example without NaN"
   ]
  },
  {
   "cell_type": "code",
   "execution_count": 36,
   "id": "da2c132d",
   "metadata": {},
   "outputs": [
    {
     "data": {
      "text/html": [
       "<div>\n",
       "<style scoped>\n",
       "    .dataframe tbody tr th:only-of-type {\n",
       "        vertical-align: middle;\n",
       "    }\n",
       "\n",
       "    .dataframe tbody tr th {\n",
       "        vertical-align: top;\n",
       "    }\n",
       "\n",
       "    .dataframe thead th {\n",
       "        text-align: right;\n",
       "    }\n",
       "</style>\n",
       "<table border=\"1\" class=\"dataframe\">\n",
       "  <thead>\n",
       "    <tr style=\"text-align: right;\">\n",
       "      <th></th>\n",
       "      <th>time</th>\n",
       "      <th>sensor1</th>\n",
       "      <th>sensor2</th>\n",
       "      <th>sensor3</th>\n",
       "      <th>sensor4</th>\n",
       "      <th>sensor5</th>\n",
       "      <th>sensor6</th>\n",
       "    </tr>\n",
       "  </thead>\n",
       "  <tbody>\n",
       "    <tr>\n",
       "      <th>0</th>\n",
       "      <td>06:00:00</td>\n",
       "      <td>14.3</td>\n",
       "      <td>13.7</td>\n",
       "      <td>14.2</td>\n",
       "      <td>14.3</td>\n",
       "      <td>13.5</td>\n",
       "      <td>13.6</td>\n",
       "    </tr>\n",
       "    <tr>\n",
       "      <th>1</th>\n",
       "      <td>06:15:00</td>\n",
       "      <td>14.5</td>\n",
       "      <td>14.5</td>\n",
       "      <td>14.0</td>\n",
       "      <td>15.0</td>\n",
       "      <td>14.5</td>\n",
       "      <td>14.7</td>\n",
       "    </tr>\n",
       "    <tr>\n",
       "      <th>2</th>\n",
       "      <td>06:30:00</td>\n",
       "      <td>14.6</td>\n",
       "      <td>15.1</td>\n",
       "      <td>14.8</td>\n",
       "      <td>15.3</td>\n",
       "      <td>14.0</td>\n",
       "      <td>14.2</td>\n",
       "    </tr>\n",
       "    <tr>\n",
       "      <th>3</th>\n",
       "      <td>06:45:00</td>\n",
       "      <td>14.8</td>\n",
       "      <td>14.5</td>\n",
       "      <td>15.6</td>\n",
       "      <td>15.2</td>\n",
       "      <td>14.7</td>\n",
       "      <td>14.6</td>\n",
       "    </tr>\n",
       "    <tr>\n",
       "      <th>4</th>\n",
       "      <td>07:00:00</td>\n",
       "      <td>15.0</td>\n",
       "      <td>14.9</td>\n",
       "      <td>15.7</td>\n",
       "      <td>15.6</td>\n",
       "      <td>14.0</td>\n",
       "      <td>15.3</td>\n",
       "    </tr>\n",
       "  </tbody>\n",
       "</table>\n",
       "</div>"
      ],
      "text/plain": [
       "       time  sensor1  sensor2  sensor3  sensor4  sensor5  sensor6\n",
       "0  06:00:00     14.3     13.7     14.2     14.3     13.5     13.6\n",
       "1  06:15:00     14.5     14.5     14.0     15.0     14.5     14.7\n",
       "2  06:30:00     14.6     15.1     14.8     15.3     14.0     14.2\n",
       "3  06:45:00     14.8     14.5     15.6     15.2     14.7     14.6\n",
       "4  07:00:00     15.0     14.9     15.7     15.6     14.0     15.3"
      ]
     },
     "execution_count": 36,
     "metadata": {},
     "output_type": "execute_result"
    }
   ],
   "source": [
    "import pandas as pd\n",
    "\n",
    "df = pd.read_csv('data/temperatures.csv', sep=';', decimal=',')\n",
    "df[:5]"
   ]
  },
  {
   "cell_type": "markdown",
   "id": "7d8f1a36",
   "metadata": {},
   "source": [
    "I want to calculate the average temperatures per measuring point over all the sensors."
   ]
  },
  {
   "cell_type": "code",
   "execution_count": 37,
   "id": "f86f5891",
   "metadata": {},
   "outputs": [
    {
     "name": "stderr",
     "output_type": "stream",
     "text": [
      "C:\\Users\\LENOVO\\AppData\\Local\\Temp\\ipykernel_14396\\923746142.py:1: FutureWarning: The default value of numeric_only in DataFrame.mean is deprecated. In a future version, it will default to False. In addition, specifying 'numeric_only=None' is deprecated. Select only valid columns or specify the value of numeric_only to silence this warning.\n",
      "  df.mean(axis='rows')\n"
     ]
    },
    {
     "data": {
      "text/plain": [
       "sensor1    19.775926\n",
       "sensor2    19.757407\n",
       "sensor3    19.840741\n",
       "sensor4    20.187037\n",
       "sensor5    19.181481\n",
       "sensor6    19.437037\n",
       "dtype: float64"
      ]
     },
     "execution_count": 37,
     "metadata": {},
     "output_type": "execute_result"
    }
   ],
   "source": [
    "df.mean(axis='rows')"
   ]
  },
  {
   "cell_type": "code",
   "execution_count": 38,
   "id": "f2aa9124",
   "metadata": {},
   "outputs": [
    {
     "name": "stderr",
     "output_type": "stream",
     "text": [
      "C:\\Users\\LENOVO\\AppData\\Local\\Temp\\ipykernel_14396\\2729108434.py:1: FutureWarning: Dropping of nuisance columns in DataFrame reductions (with 'numeric_only=None') is deprecated; in a future version this will raise TypeError.  Select only valid columns before calling the reduction.\n",
      "  average_temp_series = df.mean(axis='columns')\n"
     ]
    },
    {
     "data": {
      "text/plain": [
       "0    13.933333\n",
       "1    14.533333\n",
       "2    14.666667\n",
       "3    14.900000\n",
       "4    15.083333\n",
       "dtype: float64"
      ]
     },
     "execution_count": 38,
     "metadata": {},
     "output_type": "execute_result"
    }
   ],
   "source": [
    "average_temp_series = df.mean(axis='columns')\n",
    "average_temp_series[:5]"
   ]
  },
  {
   "cell_type": "code",
   "execution_count": 43,
   "id": "1f978834",
   "metadata": {},
   "outputs": [],
   "source": [
    "sensors = df.columns.values[1:]\n",
    "#all columns except time will be removed\n",
    "\n",
    "df = df.drop(sensors, axis=1)"
   ]
  },
  {
   "cell_type": "markdown",
   "id": "544950c7",
   "metadata": {},
   "source": [
    "I'll assign the average temperature values as a new column 'temperature':"
   ]
  },
  {
   "cell_type": "code",
   "execution_count": 46,
   "id": "6d51f6cd",
   "metadata": {},
   "outputs": [
    {
     "data": {
      "text/html": [
       "<div>\n",
       "<style scoped>\n",
       "    .dataframe tbody tr th:only-of-type {\n",
       "        vertical-align: middle;\n",
       "    }\n",
       "\n",
       "    .dataframe tbody tr th {\n",
       "        vertical-align: top;\n",
       "    }\n",
       "\n",
       "    .dataframe thead th {\n",
       "        text-align: right;\n",
       "    }\n",
       "</style>\n",
       "<table border=\"1\" class=\"dataframe\">\n",
       "  <thead>\n",
       "    <tr style=\"text-align: right;\">\n",
       "      <th></th>\n",
       "      <th>time</th>\n",
       "      <th>temperature</th>\n",
       "    </tr>\n",
       "  </thead>\n",
       "  <tbody>\n",
       "    <tr>\n",
       "      <th>0</th>\n",
       "      <td>06:00:00</td>\n",
       "      <td>13.933333</td>\n",
       "    </tr>\n",
       "    <tr>\n",
       "      <th>1</th>\n",
       "      <td>06:15:00</td>\n",
       "      <td>14.533333</td>\n",
       "    </tr>\n",
       "    <tr>\n",
       "      <th>2</th>\n",
       "      <td>06:30:00</td>\n",
       "      <td>14.666667</td>\n",
       "    </tr>\n",
       "  </tbody>\n",
       "</table>\n",
       "</div>"
      ],
      "text/plain": [
       "       time  temperature\n",
       "0  06:00:00    13.933333\n",
       "1  06:15:00    14.533333\n",
       "2  06:30:00    14.666667"
      ]
     },
     "execution_count": 46,
     "metadata": {},
     "output_type": "execute_result"
    }
   ],
   "source": [
    "df = df.assign(temperature=average_temp_series)\n",
    "df[:3]"
   ]
  },
  {
   "cell_type": "markdown",
   "id": "694eea22",
   "metadata": {},
   "source": [
    "### Example with NaN"
   ]
  },
  {
   "cell_type": "code",
   "execution_count": 49,
   "id": "4519ca3d",
   "metadata": {},
   "outputs": [
    {
     "data": {
      "text/html": [
       "<div>\n",
       "<style scoped>\n",
       "    .dataframe tbody tr th:only-of-type {\n",
       "        vertical-align: middle;\n",
       "    }\n",
       "\n",
       "    .dataframe tbody tr th {\n",
       "        vertical-align: top;\n",
       "    }\n",
       "\n",
       "    .dataframe thead th {\n",
       "        text-align: right;\n",
       "    }\n",
       "</style>\n",
       "<table border=\"1\" class=\"dataframe\">\n",
       "  <thead>\n",
       "    <tr style=\"text-align: right;\">\n",
       "      <th></th>\n",
       "      <th>sensor1</th>\n",
       "      <th>sensor2</th>\n",
       "      <th>sensor3</th>\n",
       "      <th>sensor4</th>\n",
       "      <th>sensor5</th>\n",
       "      <th>sensor6</th>\n",
       "    </tr>\n",
       "    <tr>\n",
       "      <th>time</th>\n",
       "      <th></th>\n",
       "      <th></th>\n",
       "      <th></th>\n",
       "      <th></th>\n",
       "      <th></th>\n",
       "      <th></th>\n",
       "    </tr>\n",
       "  </thead>\n",
       "  <tbody>\n",
       "    <tr>\n",
       "      <th>06:00:00</th>\n",
       "      <td>14.3</td>\n",
       "      <td>13.7</td>\n",
       "      <td>14.2</td>\n",
       "      <td>14.3</td>\n",
       "      <td>13.5</td>\n",
       "      <td>13.6</td>\n",
       "    </tr>\n",
       "    <tr>\n",
       "      <th>06:15:00</th>\n",
       "      <td>14.5</td>\n",
       "      <td>14.5</td>\n",
       "      <td>14.0</td>\n",
       "      <td>15.0</td>\n",
       "      <td>14.5</td>\n",
       "      <td>14.7</td>\n",
       "    </tr>\n",
       "    <tr>\n",
       "      <th>06:30:00</th>\n",
       "      <td>14.6</td>\n",
       "      <td>15.1</td>\n",
       "      <td>14.8</td>\n",
       "      <td>15.3</td>\n",
       "      <td>14.0</td>\n",
       "      <td>14.2</td>\n",
       "    </tr>\n",
       "  </tbody>\n",
       "</table>\n",
       "</div>"
      ],
      "text/plain": [
       "          sensor1  sensor2  sensor3  sensor4  sensor5  sensor6\n",
       "time                                                          \n",
       "06:00:00     14.3     13.7     14.2     14.3     13.5     13.6\n",
       "06:15:00     14.5     14.5     14.0     15.0     14.5     14.7\n",
       "06:30:00     14.6     15.1     14.8     15.3     14.0     14.2"
      ]
     },
     "execution_count": 49,
     "metadata": {},
     "output_type": "execute_result"
    }
   ],
   "source": [
    "import pandas as pd\n",
    "\n",
    "temp_df = pd.read_csv(\"data/temperatures.csv\",sep=\";\", index_col=0, decimal=\",\")\n",
    "temp_df[:3]"
   ]
  },
  {
   "cell_type": "markdown",
   "id": "1b4bfe13",
   "metadata": {},
   "source": [
    "Demonstration of how where works"
   ]
  },
  {
   "cell_type": "code",
   "execution_count": 53,
   "id": "c7c644cc",
   "metadata": {},
   "outputs": [
    {
     "data": {
      "text/plain": [
       "0    NaN\n",
       "1    NaN\n",
       "2    2.0\n",
       "3    3.0\n",
       "dtype: float64"
      ]
     },
     "execution_count": 53,
     "metadata": {},
     "output_type": "execute_result"
    }
   ],
   "source": [
    "s = pd.Series(range(4))\n",
    "s.where(s>1)"
   ]
  },
  {
   "cell_type": "code",
   "execution_count": 54,
   "id": "0e95991a",
   "metadata": {},
   "outputs": [
    {
     "data": {
      "text/html": [
       "<div>\n",
       "<style scoped>\n",
       "    .dataframe tbody tr th:only-of-type {\n",
       "        vertical-align: middle;\n",
       "    }\n",
       "\n",
       "    .dataframe tbody tr th {\n",
       "        vertical-align: top;\n",
       "    }\n",
       "\n",
       "    .dataframe thead th {\n",
       "        text-align: right;\n",
       "    }\n",
       "</style>\n",
       "<table border=\"1\" class=\"dataframe\">\n",
       "  <thead>\n",
       "    <tr style=\"text-align: right;\">\n",
       "      <th></th>\n",
       "      <th>Foo</th>\n",
       "      <th>Bar</th>\n",
       "    </tr>\n",
       "  </thead>\n",
       "  <tbody>\n",
       "    <tr>\n",
       "      <th>0</th>\n",
       "      <td>20</td>\n",
       "      <td>14</td>\n",
       "    </tr>\n",
       "    <tr>\n",
       "      <th>1</th>\n",
       "      <td>19</td>\n",
       "      <td>12</td>\n",
       "    </tr>\n",
       "    <tr>\n",
       "      <th>2</th>\n",
       "      <td>12</td>\n",
       "      <td>11</td>\n",
       "    </tr>\n",
       "    <tr>\n",
       "      <th>3</th>\n",
       "      <td>21</td>\n",
       "      <td>29</td>\n",
       "    </tr>\n",
       "  </tbody>\n",
       "</table>\n",
       "</div>"
      ],
      "text/plain": [
       "   Foo  Bar\n",
       "0   20   14\n",
       "1   19   12\n",
       "2   12   11\n",
       "3   21   29"
      ]
     },
     "execution_count": 54,
     "metadata": {},
     "output_type": "execute_result"
    }
   ],
   "source": [
    "import numpy as np\n",
    "import pandas as pd\n",
    "\n",
    "A = np.random.randint(1, 30, (4,2))\n",
    "df = pd.DataFrame(A, columns=['Foo', 'Bar'])\n",
    "df"
   ]
  },
  {
   "cell_type": "code",
   "execution_count": 60,
   "id": "af0e4e5a",
   "metadata": {},
   "outputs": [
    {
     "data": {
      "text/html": [
       "<div>\n",
       "<style scoped>\n",
       "    .dataframe tbody tr th:only-of-type {\n",
       "        vertical-align: middle;\n",
       "    }\n",
       "\n",
       "    .dataframe tbody tr th {\n",
       "        vertical-align: top;\n",
       "    }\n",
       "\n",
       "    .dataframe thead th {\n",
       "        text-align: right;\n",
       "    }\n",
       "</style>\n",
       "<table border=\"1\" class=\"dataframe\">\n",
       "  <thead>\n",
       "    <tr style=\"text-align: right;\">\n",
       "      <th></th>\n",
       "      <th>Foo</th>\n",
       "      <th>Bar</th>\n",
       "    </tr>\n",
       "  </thead>\n",
       "  <tbody>\n",
       "    <tr>\n",
       "      <th>0</th>\n",
       "      <td>-20</td>\n",
       "      <td>-14</td>\n",
       "    </tr>\n",
       "    <tr>\n",
       "      <th>1</th>\n",
       "      <td>19</td>\n",
       "      <td>-12</td>\n",
       "    </tr>\n",
       "    <tr>\n",
       "      <th>2</th>\n",
       "      <td>-12</td>\n",
       "      <td>11</td>\n",
       "    </tr>\n",
       "    <tr>\n",
       "      <th>3</th>\n",
       "      <td>21</td>\n",
       "      <td>29</td>\n",
       "    </tr>\n",
       "  </tbody>\n",
       "</table>\n",
       "</div>"
      ],
      "text/plain": [
       "   Foo  Bar\n",
       "0  -20  -14\n",
       "1   19  -12\n",
       "2  -12   11\n",
       "3   21   29"
      ]
     },
     "execution_count": 60,
     "metadata": {},
     "output_type": "execute_result"
    }
   ],
   "source": [
    "-df"
   ]
  },
  {
   "cell_type": "code",
   "execution_count": 59,
   "id": "863761c5",
   "metadata": {},
   "outputs": [
    {
     "data": {
      "text/html": [
       "<div>\n",
       "<style scoped>\n",
       "    .dataframe tbody tr th:only-of-type {\n",
       "        vertical-align: middle;\n",
       "    }\n",
       "\n",
       "    .dataframe tbody tr th {\n",
       "        vertical-align: top;\n",
       "    }\n",
       "\n",
       "    .dataframe thead th {\n",
       "        text-align: right;\n",
       "    }\n",
       "</style>\n",
       "<table border=\"1\" class=\"dataframe\">\n",
       "  <thead>\n",
       "    <tr style=\"text-align: right;\">\n",
       "      <th></th>\n",
       "      <th>Foo</th>\n",
       "      <th>Bar</th>\n",
       "    </tr>\n",
       "  </thead>\n",
       "  <tbody>\n",
       "    <tr>\n",
       "      <th>0</th>\n",
       "      <td>20</td>\n",
       "      <td>14</td>\n",
       "    </tr>\n",
       "    <tr>\n",
       "      <th>1</th>\n",
       "      <td>-19</td>\n",
       "      <td>12</td>\n",
       "    </tr>\n",
       "    <tr>\n",
       "      <th>2</th>\n",
       "      <td>12</td>\n",
       "      <td>-11</td>\n",
       "    </tr>\n",
       "    <tr>\n",
       "      <th>3</th>\n",
       "      <td>-21</td>\n",
       "      <td>-29</td>\n",
       "    </tr>\n",
       "  </tbody>\n",
       "</table>\n",
       "</div>"
      ],
      "text/plain": [
       "   Foo  Bar\n",
       "0   20   14\n",
       "1  -19   12\n",
       "2   12  -11\n",
       "3  -21  -29"
      ]
     },
     "execution_count": 59,
     "metadata": {},
     "output_type": "execute_result"
    }
   ],
   "source": [
    "m = df % 2 == 0\n",
    "df.where(m, -df, inplace=True)\n",
    "df"
   ]
  },
  {
   "cell_type": "code",
   "execution_count": 67,
   "id": "2c21c280",
   "metadata": {},
   "outputs": [
    {
     "data": {
      "text/html": [
       "<div>\n",
       "<style scoped>\n",
       "    .dataframe tbody tr th:only-of-type {\n",
       "        vertical-align: middle;\n",
       "    }\n",
       "\n",
       "    .dataframe tbody tr th {\n",
       "        vertical-align: top;\n",
       "    }\n",
       "\n",
       "    .dataframe thead th {\n",
       "        text-align: right;\n",
       "    }\n",
       "</style>\n",
       "<table border=\"1\" class=\"dataframe\">\n",
       "  <thead>\n",
       "    <tr style=\"text-align: right;\">\n",
       "      <th></th>\n",
       "      <th>sensor1</th>\n",
       "      <th>sensor2</th>\n",
       "      <th>sensor3</th>\n",
       "      <th>sensor4</th>\n",
       "      <th>sensor5</th>\n",
       "      <th>sensor6</th>\n",
       "    </tr>\n",
       "    <tr>\n",
       "      <th>time</th>\n",
       "      <th></th>\n",
       "      <th></th>\n",
       "      <th></th>\n",
       "      <th></th>\n",
       "      <th></th>\n",
       "      <th></th>\n",
       "    </tr>\n",
       "  </thead>\n",
       "  <tbody>\n",
       "    <tr>\n",
       "      <th>06:00:00</th>\n",
       "      <td>0.096018</td>\n",
       "      <td>0.177860</td>\n",
       "      <td>0.127828</td>\n",
       "      <td>0.347214</td>\n",
       "      <td>0.242017</td>\n",
       "      <td>0.485551</td>\n",
       "    </tr>\n",
       "    <tr>\n",
       "      <th>06:15:00</th>\n",
       "      <td>0.620883</td>\n",
       "      <td>0.119218</td>\n",
       "      <td>0.486433</td>\n",
       "      <td>0.216270</td>\n",
       "      <td>0.901529</td>\n",
       "      <td>0.585665</td>\n",
       "    </tr>\n",
       "    <tr>\n",
       "      <th>06:30:00</th>\n",
       "      <td>0.785559</td>\n",
       "      <td>0.091942</td>\n",
       "      <td>0.197307</td>\n",
       "      <td>0.041134</td>\n",
       "      <td>0.388347</td>\n",
       "      <td>0.679264</td>\n",
       "    </tr>\n",
       "  </tbody>\n",
       "</table>\n",
       "</div>"
      ],
      "text/plain": [
       "           sensor1   sensor2   sensor3   sensor4   sensor5   sensor6\n",
       "time                                                                \n",
       "06:00:00  0.096018  0.177860  0.127828  0.347214  0.242017  0.485551\n",
       "06:15:00  0.620883  0.119218  0.486433  0.216270  0.901529  0.585665\n",
       "06:30:00  0.785559  0.091942  0.197307  0.041134  0.388347  0.679264"
      ]
     },
     "execution_count": 67,
     "metadata": {},
     "output_type": "execute_result"
    }
   ],
   "source": [
    "random_df = pd.DataFrame(np.random.random(size=temp_df.shape), columns=temp_df.columns.values, index=temp_df.index)\n",
    "random_df[:3]"
   ]
  },
  {
   "cell_type": "code",
   "execution_count": 69,
   "id": "c3b8a3cf",
   "metadata": {},
   "outputs": [
    {
     "data": {
      "text/html": [
       "<div>\n",
       "<style scoped>\n",
       "    .dataframe tbody tr th:only-of-type {\n",
       "        vertical-align: middle;\n",
       "    }\n",
       "\n",
       "    .dataframe tbody tr th {\n",
       "        vertical-align: top;\n",
       "    }\n",
       "\n",
       "    .dataframe thead th {\n",
       "        text-align: right;\n",
       "    }\n",
       "</style>\n",
       "<table border=\"1\" class=\"dataframe\">\n",
       "  <thead>\n",
       "    <tr style=\"text-align: right;\">\n",
       "      <th></th>\n",
       "      <th>sensor1</th>\n",
       "      <th>sensor2</th>\n",
       "      <th>sensor3</th>\n",
       "      <th>sensor4</th>\n",
       "      <th>sensor5</th>\n",
       "      <th>sensor6</th>\n",
       "    </tr>\n",
       "    <tr>\n",
       "      <th>time</th>\n",
       "      <th></th>\n",
       "      <th></th>\n",
       "      <th></th>\n",
       "      <th></th>\n",
       "      <th></th>\n",
       "      <th></th>\n",
       "    </tr>\n",
       "  </thead>\n",
       "  <tbody>\n",
       "    <tr>\n",
       "      <th>06:00:00</th>\n",
       "      <td>NaN</td>\n",
       "      <td>NaN</td>\n",
       "      <td>NaN</td>\n",
       "      <td>NaN</td>\n",
       "      <td>NaN</td>\n",
       "      <td>NaN</td>\n",
       "    </tr>\n",
       "    <tr>\n",
       "      <th>06:15:00</th>\n",
       "      <td>NaN</td>\n",
       "      <td>NaN</td>\n",
       "      <td>NaN</td>\n",
       "      <td>NaN</td>\n",
       "      <td>NaN</td>\n",
       "      <td>NaN</td>\n",
       "    </tr>\n",
       "    <tr>\n",
       "      <th>06:30:00</th>\n",
       "      <td>NaN</td>\n",
       "      <td>NaN</td>\n",
       "      <td>NaN</td>\n",
       "      <td>NaN</td>\n",
       "      <td>NaN</td>\n",
       "      <td>NaN</td>\n",
       "    </tr>\n",
       "  </tbody>\n",
       "</table>\n",
       "</div>"
      ],
      "text/plain": [
       "          sensor1  sensor2  sensor3  sensor4  sensor5  sensor6\n",
       "time                                                          \n",
       "06:00:00      NaN      NaN      NaN      NaN      NaN      NaN\n",
       "06:15:00      NaN      NaN      NaN      NaN      NaN      NaN\n",
       "06:30:00      NaN      NaN      NaN      NaN      NaN      NaN"
      ]
     },
     "execution_count": 69,
     "metadata": {},
     "output_type": "execute_result"
    }
   ],
   "source": [
    "nan_df = pd.DataFrame(np.nan,columns=temp_df.columns.values, index=temp_df.index)\n",
    "nan_df[:3]"
   ]
  },
  {
   "cell_type": "code",
   "execution_count": 71,
   "id": "5d9ec31b",
   "metadata": {},
   "outputs": [
    {
     "data": {
      "text/html": [
       "<div>\n",
       "<style scoped>\n",
       "    .dataframe tbody tr th:only-of-type {\n",
       "        vertical-align: middle;\n",
       "    }\n",
       "\n",
       "    .dataframe tbody tr th {\n",
       "        vertical-align: top;\n",
       "    }\n",
       "\n",
       "    .dataframe thead th {\n",
       "        text-align: right;\n",
       "    }\n",
       "</style>\n",
       "<table border=\"1\" class=\"dataframe\">\n",
       "  <thead>\n",
       "    <tr style=\"text-align: right;\">\n",
       "      <th></th>\n",
       "      <th>sensor1</th>\n",
       "      <th>sensor2</th>\n",
       "      <th>sensor3</th>\n",
       "      <th>sensor4</th>\n",
       "      <th>sensor5</th>\n",
       "      <th>sensor6</th>\n",
       "    </tr>\n",
       "    <tr>\n",
       "      <th>time</th>\n",
       "      <th></th>\n",
       "      <th></th>\n",
       "      <th></th>\n",
       "      <th></th>\n",
       "      <th></th>\n",
       "      <th></th>\n",
       "    </tr>\n",
       "  </thead>\n",
       "  <tbody>\n",
       "    <tr>\n",
       "      <th>06:00:00</th>\n",
       "      <td>True</td>\n",
       "      <td>True</td>\n",
       "      <td>True</td>\n",
       "      <td>True</td>\n",
       "      <td>True</td>\n",
       "      <td>True</td>\n",
       "    </tr>\n",
       "    <tr>\n",
       "      <th>06:15:00</th>\n",
       "      <td>True</td>\n",
       "      <td>True</td>\n",
       "      <td>True</td>\n",
       "      <td>True</td>\n",
       "      <td>False</td>\n",
       "      <td>True</td>\n",
       "    </tr>\n",
       "    <tr>\n",
       "      <th>06:30:00</th>\n",
       "      <td>True</td>\n",
       "      <td>True</td>\n",
       "      <td>True</td>\n",
       "      <td>True</td>\n",
       "      <td>True</td>\n",
       "      <td>True</td>\n",
       "    </tr>\n",
       "  </tbody>\n",
       "</table>\n",
       "</div>"
      ],
      "text/plain": [
       "          sensor1  sensor2  sensor3  sensor4  sensor5  sensor6\n",
       "time                                                          \n",
       "06:00:00     True     True     True     True     True     True\n",
       "06:15:00     True     True     True     True    False     True\n",
       "06:30:00     True     True     True     True     True     True"
      ]
     },
     "execution_count": 71,
     "metadata": {},
     "output_type": "execute_result"
    }
   ],
   "source": [
    "df_bool = random_df < 0.8\n",
    "df_bool[:3]"
   ]
  },
  {
   "cell_type": "code",
   "execution_count": 83,
   "id": "eb03e01f",
   "metadata": {},
   "outputs": [
    {
     "data": {
      "text/html": [
       "<div>\n",
       "<style scoped>\n",
       "    .dataframe tbody tr th:only-of-type {\n",
       "        vertical-align: middle;\n",
       "    }\n",
       "\n",
       "    .dataframe tbody tr th {\n",
       "        vertical-align: top;\n",
       "    }\n",
       "\n",
       "    .dataframe thead th {\n",
       "        text-align: right;\n",
       "    }\n",
       "</style>\n",
       "<table border=\"1\" class=\"dataframe\">\n",
       "  <thead>\n",
       "    <tr style=\"text-align: right;\">\n",
       "      <th></th>\n",
       "      <th>sensor1</th>\n",
       "      <th>sensor2</th>\n",
       "      <th>sensor3</th>\n",
       "      <th>sensor4</th>\n",
       "      <th>sensor5</th>\n",
       "      <th>sensor6</th>\n",
       "    </tr>\n",
       "    <tr>\n",
       "      <th>time</th>\n",
       "      <th></th>\n",
       "      <th></th>\n",
       "      <th></th>\n",
       "      <th></th>\n",
       "      <th></th>\n",
       "      <th></th>\n",
       "    </tr>\n",
       "  </thead>\n",
       "  <tbody>\n",
       "    <tr>\n",
       "      <th>06:00:00</th>\n",
       "      <td>14.3</td>\n",
       "      <td>13.7</td>\n",
       "      <td>14.2</td>\n",
       "      <td>14.3</td>\n",
       "      <td>13.5</td>\n",
       "      <td>13.6</td>\n",
       "    </tr>\n",
       "    <tr>\n",
       "      <th>06:15:00</th>\n",
       "      <td>14.5</td>\n",
       "      <td>14.5</td>\n",
       "      <td>14.0</td>\n",
       "      <td>15.0</td>\n",
       "      <td>NaN</td>\n",
       "      <td>14.7</td>\n",
       "    </tr>\n",
       "    <tr>\n",
       "      <th>06:30:00</th>\n",
       "      <td>14.6</td>\n",
       "      <td>15.1</td>\n",
       "      <td>14.8</td>\n",
       "      <td>15.3</td>\n",
       "      <td>14.0</td>\n",
       "      <td>14.2</td>\n",
       "    </tr>\n",
       "  </tbody>\n",
       "</table>\n",
       "</div>"
      ],
      "text/plain": [
       "          sensor1  sensor2  sensor3  sensor4  sensor5  sensor6\n",
       "time                                                          \n",
       "06:00:00     14.3     13.7     14.2     14.3     13.5     13.6\n",
       "06:15:00     14.5     14.5     14.0     15.0      NaN     14.7\n",
       "06:30:00     14.6     15.1     14.8     15.3     14.0     14.2"
      ]
     },
     "execution_count": 83,
     "metadata": {},
     "output_type": "execute_result"
    }
   ],
   "source": [
    "disturbed_data = temp_df.where(df_bool, nan_df)\n",
    "disturbed_data[:3]"
   ]
  },
  {
   "cell_type": "code",
   "execution_count": 74,
   "id": "3eea0715",
   "metadata": {},
   "outputs": [
    {
     "data": {
      "text/html": [
       "<div>\n",
       "<style scoped>\n",
       "    .dataframe tbody tr th:only-of-type {\n",
       "        vertical-align: middle;\n",
       "    }\n",
       "\n",
       "    .dataframe tbody tr th {\n",
       "        vertical-align: top;\n",
       "    }\n",
       "\n",
       "    .dataframe thead th {\n",
       "        text-align: right;\n",
       "    }\n",
       "</style>\n",
       "<table border=\"1\" class=\"dataframe\">\n",
       "  <thead>\n",
       "    <tr style=\"text-align: right;\">\n",
       "      <th></th>\n",
       "      <th>sensor1</th>\n",
       "      <th>sensor2</th>\n",
       "      <th>sensor3</th>\n",
       "      <th>sensor4</th>\n",
       "      <th>sensor5</th>\n",
       "      <th>sensor6</th>\n",
       "    </tr>\n",
       "    <tr>\n",
       "      <th>time</th>\n",
       "      <th></th>\n",
       "      <th></th>\n",
       "      <th></th>\n",
       "      <th></th>\n",
       "      <th></th>\n",
       "      <th></th>\n",
       "    </tr>\n",
       "  </thead>\n",
       "  <tbody>\n",
       "    <tr>\n",
       "      <th>06:00:00</th>\n",
       "      <td>14.3</td>\n",
       "      <td>13.7</td>\n",
       "      <td>14.2</td>\n",
       "      <td>14.3</td>\n",
       "      <td>13.5</td>\n",
       "      <td>13.6</td>\n",
       "    </tr>\n",
       "    <tr>\n",
       "      <th>06:15:00</th>\n",
       "      <td>14.5</td>\n",
       "      <td>14.5</td>\n",
       "      <td>14.0</td>\n",
       "      <td>15.0</td>\n",
       "      <td>NaN</td>\n",
       "      <td>14.7</td>\n",
       "    </tr>\n",
       "    <tr>\n",
       "      <th>06:30:00</th>\n",
       "      <td>14.6</td>\n",
       "      <td>15.1</td>\n",
       "      <td>14.8</td>\n",
       "      <td>15.3</td>\n",
       "      <td>14.0</td>\n",
       "      <td>14.2</td>\n",
       "    </tr>\n",
       "    <tr>\n",
       "      <th>06:45:00</th>\n",
       "      <td>14.8</td>\n",
       "      <td>14.5</td>\n",
       "      <td>15.6</td>\n",
       "      <td>15.2</td>\n",
       "      <td>14.7</td>\n",
       "      <td>14.6</td>\n",
       "    </tr>\n",
       "    <tr>\n",
       "      <th>07:00:00</th>\n",
       "      <td>15.0</td>\n",
       "      <td>14.9</td>\n",
       "      <td>15.7</td>\n",
       "      <td>15.6</td>\n",
       "      <td>14.0</td>\n",
       "      <td>NaN</td>\n",
       "    </tr>\n",
       "  </tbody>\n",
       "</table>\n",
       "</div>"
      ],
      "text/plain": [
       "          sensor1  sensor2  sensor3  sensor4  sensor5  sensor6\n",
       "time                                                          \n",
       "06:00:00     14.3     13.7     14.2     14.3     13.5     13.6\n",
       "06:15:00     14.5     14.5     14.0     15.0      NaN     14.7\n",
       "06:30:00     14.6     15.1     14.8     15.3     14.0     14.2\n",
       "06:45:00     14.8     14.5     15.6     15.2     14.7     14.6\n",
       "07:00:00     15.0     14.9     15.7     15.6     14.0      NaN"
      ]
     },
     "execution_count": 74,
     "metadata": {},
     "output_type": "execute_result"
    }
   ],
   "source": [
    "disturbed_data.to_csv('data/temperatures_with_NAN.csv')\n",
    "disturbed_data[:5]"
   ]
  },
  {
   "cell_type": "markdown",
   "id": "6bce2439",
   "metadata": {},
   "source": [
    "### Using Dropna on the DataFrame"
   ]
  },
  {
   "cell_type": "code",
   "execution_count": 79,
   "id": "0f60fade",
   "metadata": {},
   "outputs": [
    {
     "data": {
      "text/html": [
       "<div>\n",
       "<style scoped>\n",
       "    .dataframe tbody tr th:only-of-type {\n",
       "        vertical-align: middle;\n",
       "    }\n",
       "\n",
       "    .dataframe tbody tr th {\n",
       "        vertical-align: top;\n",
       "    }\n",
       "\n",
       "    .dataframe thead th {\n",
       "        text-align: right;\n",
       "    }\n",
       "</style>\n",
       "<table border=\"1\" class=\"dataframe\">\n",
       "  <thead>\n",
       "    <tr style=\"text-align: right;\">\n",
       "      <th></th>\n",
       "      <th>sensor1</th>\n",
       "      <th>sensor2</th>\n",
       "      <th>sensor3</th>\n",
       "      <th>sensor4</th>\n",
       "      <th>sensor5</th>\n",
       "      <th>sensor6</th>\n",
       "    </tr>\n",
       "    <tr>\n",
       "      <th>time</th>\n",
       "      <th></th>\n",
       "      <th></th>\n",
       "      <th></th>\n",
       "      <th></th>\n",
       "      <th></th>\n",
       "      <th></th>\n",
       "    </tr>\n",
       "  </thead>\n",
       "  <tbody>\n",
       "    <tr>\n",
       "      <th>06:00:00</th>\n",
       "      <td>14.3</td>\n",
       "      <td>13.7</td>\n",
       "      <td>14.2</td>\n",
       "      <td>14.3</td>\n",
       "      <td>13.5</td>\n",
       "      <td>13.6</td>\n",
       "    </tr>\n",
       "    <tr>\n",
       "      <th>06:30:00</th>\n",
       "      <td>14.6</td>\n",
       "      <td>15.1</td>\n",
       "      <td>14.8</td>\n",
       "      <td>15.3</td>\n",
       "      <td>14.0</td>\n",
       "      <td>14.2</td>\n",
       "    </tr>\n",
       "    <tr>\n",
       "      <th>06:45:00</th>\n",
       "      <td>14.8</td>\n",
       "      <td>14.5</td>\n",
       "      <td>15.6</td>\n",
       "      <td>15.2</td>\n",
       "      <td>14.7</td>\n",
       "      <td>14.6</td>\n",
       "    </tr>\n",
       "    <tr>\n",
       "      <th>07:30:00</th>\n",
       "      <td>15.4</td>\n",
       "      <td>15.3</td>\n",
       "      <td>15.6</td>\n",
       "      <td>15.6</td>\n",
       "      <td>14.7</td>\n",
       "      <td>15.1</td>\n",
       "    </tr>\n",
       "    <tr>\n",
       "      <th>08:00:00</th>\n",
       "      <td>15.7</td>\n",
       "      <td>15.6</td>\n",
       "      <td>15.9</td>\n",
       "      <td>16.2</td>\n",
       "      <td>15.4</td>\n",
       "      <td>15.4</td>\n",
       "    </tr>\n",
       "  </tbody>\n",
       "</table>\n",
       "</div>"
      ],
      "text/plain": [
       "          sensor1  sensor2  sensor3  sensor4  sensor5  sensor6\n",
       "time                                                          \n",
       "06:00:00     14.3     13.7     14.2     14.3     13.5     13.6\n",
       "06:30:00     14.6     15.1     14.8     15.3     14.0     14.2\n",
       "06:45:00     14.8     14.5     15.6     15.2     14.7     14.6\n",
       "07:30:00     15.4     15.3     15.6     15.6     14.7     15.1\n",
       "08:00:00     15.7     15.6     15.9     16.2     15.4     15.4"
      ]
     },
     "execution_count": 79,
     "metadata": {},
     "output_type": "execute_result"
    }
   ],
   "source": [
    "df = disturbed_data.dropna()  #if axis=1, dropna drops columns\n",
    "df[:5]"
   ]
  },
  {
   "cell_type": "markdown",
   "id": "b836de40",
   "metadata": {},
   "source": [
    "I'll take out all the rows, where more than one NaN value occurred."
   ]
  },
  {
   "cell_type": "code",
   "execution_count": 84,
   "id": "e4a0b05e",
   "metadata": {},
   "outputs": [
    {
     "data": {
      "text/html": [
       "<div>\n",
       "<style scoped>\n",
       "    .dataframe tbody tr th:only-of-type {\n",
       "        vertical-align: middle;\n",
       "    }\n",
       "\n",
       "    .dataframe tbody tr th {\n",
       "        vertical-align: top;\n",
       "    }\n",
       "\n",
       "    .dataframe thead th {\n",
       "        text-align: right;\n",
       "    }\n",
       "</style>\n",
       "<table border=\"1\" class=\"dataframe\">\n",
       "  <thead>\n",
       "    <tr style=\"text-align: right;\">\n",
       "      <th></th>\n",
       "      <th>sensor1</th>\n",
       "      <th>sensor2</th>\n",
       "      <th>sensor3</th>\n",
       "      <th>sensor4</th>\n",
       "      <th>sensor5</th>\n",
       "      <th>sensor6</th>\n",
       "    </tr>\n",
       "    <tr>\n",
       "      <th>time</th>\n",
       "      <th></th>\n",
       "      <th></th>\n",
       "      <th></th>\n",
       "      <th></th>\n",
       "      <th></th>\n",
       "      <th></th>\n",
       "    </tr>\n",
       "  </thead>\n",
       "  <tbody>\n",
       "    <tr>\n",
       "      <th>06:00:00</th>\n",
       "      <td>14.3</td>\n",
       "      <td>13.7</td>\n",
       "      <td>14.2</td>\n",
       "      <td>14.3</td>\n",
       "      <td>13.5</td>\n",
       "      <td>13.6</td>\n",
       "    </tr>\n",
       "    <tr>\n",
       "      <th>06:15:00</th>\n",
       "      <td>14.5</td>\n",
       "      <td>14.5</td>\n",
       "      <td>14.0</td>\n",
       "      <td>15.0</td>\n",
       "      <td>NaN</td>\n",
       "      <td>14.7</td>\n",
       "    </tr>\n",
       "    <tr>\n",
       "      <th>06:30:00</th>\n",
       "      <td>14.6</td>\n",
       "      <td>15.1</td>\n",
       "      <td>14.8</td>\n",
       "      <td>15.3</td>\n",
       "      <td>14.0</td>\n",
       "      <td>14.2</td>\n",
       "    </tr>\n",
       "    <tr>\n",
       "      <th>06:45:00</th>\n",
       "      <td>14.8</td>\n",
       "      <td>14.5</td>\n",
       "      <td>15.6</td>\n",
       "      <td>15.2</td>\n",
       "      <td>14.7</td>\n",
       "      <td>14.6</td>\n",
       "    </tr>\n",
       "    <tr>\n",
       "      <th>07:00:00</th>\n",
       "      <td>15.0</td>\n",
       "      <td>14.9</td>\n",
       "      <td>15.7</td>\n",
       "      <td>15.6</td>\n",
       "      <td>14.0</td>\n",
       "      <td>NaN</td>\n",
       "    </tr>\n",
       "  </tbody>\n",
       "</table>\n",
       "</div>"
      ],
      "text/plain": [
       "          sensor1  sensor2  sensor3  sensor4  sensor5  sensor6\n",
       "time                                                          \n",
       "06:00:00     14.3     13.7     14.2     14.3     13.5     13.6\n",
       "06:15:00     14.5     14.5     14.0     15.0      NaN     14.7\n",
       "06:30:00     14.6     15.1     14.8     15.3     14.0     14.2\n",
       "06:45:00     14.8     14.5     15.6     15.2     14.7     14.6\n",
       "07:00:00     15.0     14.9     15.7     15.6     14.0      NaN"
      ]
     },
     "execution_count": 84,
     "metadata": {},
     "output_type": "execute_result"
    }
   ],
   "source": [
    "cleansed_df = disturbed_data.dropna(thresh=5, axis=0)\n",
    "cleansed_df[:5]"
   ]
  },
  {
   "cell_type": "code",
   "execution_count": 92,
   "id": "540a9780",
   "metadata": {},
   "outputs": [
    {
     "data": {
      "text/html": [
       "<div>\n",
       "<style scoped>\n",
       "    .dataframe tbody tr th:only-of-type {\n",
       "        vertical-align: middle;\n",
       "    }\n",
       "\n",
       "    .dataframe tbody tr th {\n",
       "        vertical-align: top;\n",
       "    }\n",
       "\n",
       "    .dataframe thead th {\n",
       "        text-align: right;\n",
       "    }\n",
       "</style>\n",
       "<table border=\"1\" class=\"dataframe\">\n",
       "  <thead>\n",
       "    <tr style=\"text-align: right;\">\n",
       "      <th></th>\n",
       "      <th>temperature</th>\n",
       "    </tr>\n",
       "    <tr>\n",
       "      <th>time</th>\n",
       "      <th></th>\n",
       "    </tr>\n",
       "  </thead>\n",
       "  <tbody>\n",
       "    <tr>\n",
       "      <th>06:00:00</th>\n",
       "      <td>13.933333</td>\n",
       "    </tr>\n",
       "    <tr>\n",
       "      <th>06:15:00</th>\n",
       "      <td>14.540000</td>\n",
       "    </tr>\n",
       "    <tr>\n",
       "      <th>06:30:00</th>\n",
       "      <td>14.666667</td>\n",
       "    </tr>\n",
       "    <tr>\n",
       "      <th>06:45:00</th>\n",
       "      <td>14.900000</td>\n",
       "    </tr>\n",
       "    <tr>\n",
       "      <th>07:00:00</th>\n",
       "      <td>15.040000</td>\n",
       "    </tr>\n",
       "  </tbody>\n",
       "</table>\n",
       "</div>"
      ],
      "text/plain": [
       "          temperature\n",
       "time                 \n",
       "06:00:00    13.933333\n",
       "06:15:00    14.540000\n",
       "06:30:00    14.666667\n",
       "06:45:00    14.900000\n",
       "07:00:00    15.040000"
      ]
     },
     "execution_count": 92,
     "metadata": {},
     "output_type": "execute_result"
    }
   ],
   "source": [
    "average_temp_series = cleansed_df.mean(axis=1)\n",
    "sensors = cleansed_df.columns.values\n",
    "df = cleansed_df.drop(sensors, axis=1)\n",
    "df = df.assign(temperature=average_temp_series)\n",
    "df[:5]"
   ]
  },
  {
   "cell_type": "markdown",
   "id": "3965a45f",
   "metadata": {},
   "source": [
    "## Binning in Python and Pandas\n",
    "The following function can be used to create bins"
   ]
  },
  {
   "cell_type": "code",
   "execution_count": 1,
   "id": "e1c581e9",
   "metadata": {},
   "outputs": [],
   "source": [
    "def create_bins(lower_bound, width, quantity):\n",
    "    \"\"\"\n",
    "    Create bins returns an equal_width (distance) partitioning.\n",
    "    It returns an ascending list of tuple, representing the i intervals.\n",
    "    A tuple bins[i], i.e. (bins[i][0], bins[i][1]) with i > 0 and i < quantity, satisfies the following conditions:\n",
    "              (1) bins[i][0] + width == bins[i][1]\n",
    "              (2) bins[i-1][0] + width == bins[i][0] and\n",
    "              (3) bins[i-1][1] + width == bins[i][1]\n",
    "    \"\"\"\n",
    "    bins = []\n",
    "    for low in range(lower_bound, lower_bound + quantity*width, width):\n",
    "        bins.append((low, low + width))\n",
    "    return bins"
   ]
  },
  {
   "cell_type": "code",
   "execution_count": 2,
   "id": "41e896d9",
   "metadata": {},
   "outputs": [
    {
     "data": {
      "text/plain": [
       "[(10, 20), (20, 30), (30, 40), (40, 50), (50, 60)]"
      ]
     },
     "execution_count": 2,
     "metadata": {},
     "output_type": "execute_result"
    }
   ],
   "source": [
    "bins = create_bins(10, 10, 5)\n",
    "bins"
   ]
  },
  {
   "cell_type": "code",
   "execution_count": 3,
   "id": "afb32bf0",
   "metadata": {},
   "outputs": [],
   "source": [
    "def find_bin(value, bins):\n",
    "    \"\"\"\n",
    "    bins is a list of tuples, like [(0,20), (20, 40), (40, 60)],\n",
    "    binning returns the smallest index i of bins so that\n",
    "    bin[i][0] <= value < bin[i][1]\n",
    "    \n",
    "    \"\"\"\n",
    "    for i in range(0, len(bins)):\n",
    "        if bins[i][0] <= value < bins[i][1]:\n",
    "            return i"
   ]
  },
  {
   "cell_type": "code",
   "execution_count": 4,
   "id": "330c14d8",
   "metadata": {},
   "outputs": [
    {
     "name": "stdout",
     "output_type": "stream",
     "text": [
      "73.4 5 (70, 74)\n",
      "69.3 4 (66, 70)\n",
      "64.9 3 (62, 66)\n",
      "75.6 6 (74, 78)\n",
      "74.9 6 (74, 78)\n",
      "80.3 7 (78, 82)\n",
      "78.6 7 (78, 82)\n",
      "84.1 8 (82, 86)\n",
      "88.9 9 (86, 90)\n",
      "90.3 10 (90, 94)\n",
      "83.4 8 (82, 86)\n",
      "69.3 4 (66, 70)\n",
      "52.4 0 (50, 54)\n",
      "58.3 2 (58, 62)\n",
      "67.4 4 (66, 70)\n",
      "74.0 6 (74, 78)\n",
      "89.3 9 (86, 90)\n",
      "63.4 3 (62, 66)\n",
      "Counter({4: 3, 6: 3, 3: 2, 7: 2, 8: 2, 9: 2, 5: 1, 10: 1, 0: 1, 2: 1})\n"
     ]
    }
   ],
   "source": [
    "from collections import Counter\n",
    "\n",
    "bins = create_bins(50, 4, 11)\n",
    "weights_of_persons = [73.4, 69.3, 64.9, 75.6, 74.9, 80.3, 78.6, 84.1, 88.9, \n",
    "                      90.3, 83.4, 69.3,52.4, 58.3, 67.4, 74.0, 89.3, 63.4]\n",
    "\n",
    "binned_weights = []\n",
    "for value in weights_of_persons:\n",
    "    bin_index = find_bin(value, bins)\n",
    "    print(value, bin_index, bins[bin_index])\n",
    "    binned_weights.append(bin_index)\n",
    "    \n",
    "frequencies = Counter(binned_weights)\n",
    "print(frequencies)"
   ]
  },
  {
   "cell_type": "markdown",
   "id": "47f32b42",
   "metadata": {},
   "source": [
    "### Binning with Pandas"
   ]
  },
  {
   "cell_type": "code",
   "execution_count": 5,
   "id": "e650f7fc",
   "metadata": {},
   "outputs": [
    {
     "data": {
      "text/plain": [
       "IntervalIndex([[50, 54), [54, 58), [58, 62), [62, 66), [66, 70) ... [74, 78), [78, 82), [82, 86), [86, 90), [90, 94)], dtype='interval[int64, left]')"
      ]
     },
     "execution_count": 5,
     "metadata": {},
     "output_type": "execute_result"
    }
   ],
   "source": [
    "import pandas as pd\n",
    "\n",
    "bins2 = pd.IntervalIndex.from_tuples(bins, closed='left')\n",
    "bins2"
   ]
  },
  {
   "cell_type": "code",
   "execution_count": 6,
   "id": "8a32a28c",
   "metadata": {},
   "outputs": [
    {
     "name": "stdout",
     "output_type": "stream",
     "text": [
      "[[70, 74), [66, 70), [62, 66), [74, 78), [74, 78), ..., [58, 62), [66, 70), [74, 78), [86, 90), [62, 66)]\n",
      "Length: 18\n",
      "Categories (11, interval[int64, left]): [[50, 54) < [54, 58) < [58, 62) < [62, 66) ... [78, 82) < [82, 86) < [86, 90) < [90, 94)]\n"
     ]
    }
   ],
   "source": [
    "categorical_object = pd.cut(weights_of_persons, bins2)\n",
    "print(categorical_object)"
   ]
  },
  {
   "cell_type": "markdown",
   "id": "f162246a",
   "metadata": {},
   "source": [
    "### Other ways to define bins"
   ]
  },
  {
   "cell_type": "code",
   "execution_count": 8,
   "id": "765b7755",
   "metadata": {},
   "outputs": [
    {
     "name": "stdout",
     "output_type": "stream",
     "text": [
      "[(71.35, 73.456], (69.244, 71.35], (62.928, 65.033], (75.561, 77.667], (73.456, 75.561], ..., (56.611, 58.717], (67.139, 69.244], (73.456, 75.561], (88.194, 90.3], (62.928, 65.033]]\n",
      "Length: 18\n",
      "Categories (18, interval[float64, right]): [(52.362, 54.506] < (54.506, 56.611] < (56.611, 58.717] < (58.717, 60.822] ... (81.878, 83.983] < (83.983, 86.089] < (86.089, 88.194] < (88.194, 90.3]]\n"
     ]
    }
   ],
   "source": [
    "categorical_object = pd.cut(weights_of_persons, 18)\n",
    "print(categorical_object)"
   ]
  },
  {
   "cell_type": "code",
   "execution_count": 13,
   "id": "7c7f7b2b",
   "metadata": {},
   "outputs": [
    {
     "name": "stdout",
     "output_type": "stream",
     "text": [
      "[50, 54, 58, 62, 66, 70, 74, 78, 82, 86, 90, 94]\n"
     ]
    },
    {
     "data": {
      "text/plain": [
       "[[70, 74), [66, 70), [62, 66), [74, 78), [74, 78), ..., [58, 62), [66, 70), [74, 78), [86, 90), [62, 66)]\n",
       "Length: 18\n",
       "Categories (11, interval[int64, left]): [[50, 54) < [54, 58) < [58, 62) < [62, 66) ... [78, 82) < [82, 86) < [86, 90) < [90, 94)]"
      ]
     },
     "execution_count": 13,
     "metadata": {},
     "output_type": "execute_result"
    }
   ],
   "source": [
    "sequence_of_scalars = [ x[0] for x in bins]\n",
    "sequence_of_scalars.append(bins[-1][1])\n",
    "print(sequence_of_scalars)\n",
    "categorical_object = pd.cut(weights_of_persons, sequence_of_scalars, right=False)\n",
    "categorical_object"
   ]
  },
  {
   "cell_type": "markdown",
   "id": "50d0cbf7",
   "metadata": {},
   "source": [
    "### Bin counts and Value counts"
   ]
  },
  {
   "cell_type": "code",
   "execution_count": 16,
   "id": "b3ad741b",
   "metadata": {},
   "outputs": [
    {
     "data": {
      "text/plain": [
       "[66, 70)    3\n",
       "[74, 78)    3\n",
       "[62, 66)    2\n",
       "[78, 82)    2\n",
       "[82, 86)    2\n",
       "[86, 90)    2\n",
       "[50, 54)    1\n",
       "[58, 62)    1\n",
       "[70, 74)    1\n",
       "[90, 94)    1\n",
       "[54, 58)    0\n",
       "dtype: int64"
      ]
     },
     "execution_count": 16,
     "metadata": {},
     "output_type": "execute_result"
    }
   ],
   "source": [
    "pd.value_counts(categorical_object)"
   ]
  },
  {
   "cell_type": "markdown",
   "id": "30b135ae",
   "metadata": {},
   "source": [
    "\"categorical_object.codes\" provides me with a labelling of the input values into the binning categories"
   ]
  },
  {
   "cell_type": "code",
   "execution_count": 17,
   "id": "919806ca",
   "metadata": {},
   "outputs": [
    {
     "data": {
      "text/plain": [
       "array([ 5,  4,  3,  6,  6,  7,  7,  8,  9, 10,  8,  4,  0,  2,  4,  6,  9,\n",
       "        3], dtype=int8)"
      ]
     },
     "execution_count": 17,
     "metadata": {},
     "output_type": "execute_result"
    }
   ],
   "source": [
    "labels = categorical_object.codes\n",
    "labels"
   ]
  },
  {
   "cell_type": "markdown",
   "id": "c9d4d6c0",
   "metadata": {},
   "source": [
    "Categories is the IntervalIndex of the categories of the label indices:"
   ]
  },
  {
   "cell_type": "code",
   "execution_count": 18,
   "id": "bed8548a",
   "metadata": {},
   "outputs": [
    {
     "data": {
      "text/plain": [
       "IntervalIndex([[50, 54), [54, 58), [58, 62), [62, 66), [66, 70) ... [74, 78), [78, 82), [82, 86), [86, 90), [90, 94)], dtype='interval[int64, left]')"
      ]
     },
     "execution_count": 18,
     "metadata": {},
     "output_type": "execute_result"
    }
   ],
   "source": [
    "categories = categorical_object.categories\n",
    "categories"
   ]
  },
  {
   "cell_type": "code",
   "execution_count": 23,
   "id": "07d03331",
   "metadata": {},
   "outputs": [
    {
     "name": "stdout",
     "output_type": "stream",
     "text": [
      "73.4 5 [70, 74)\n",
      "69.3 4 [66, 70)\n",
      "64.9 3 [62, 66)\n",
      "75.6 6 [74, 78)\n",
      "74.9 6 [74, 78)\n",
      "80.3 7 [78, 82)\n",
      "78.6 7 [78, 82)\n",
      "84.1 8 [82, 86)\n",
      "88.9 9 [86, 90)\n",
      "90.3 10 [90, 94)\n",
      "83.4 8 [82, 86)\n",
      "69.3 4 [66, 70)\n",
      "52.4 0 [50, 54)\n",
      "58.3 2 [58, 62)\n",
      "67.4 4 [66, 70)\n",
      "74.0 6 [74, 78)\n",
      "89.3 9 [86, 90)\n",
      "63.4 3 [62, 66)\n"
     ]
    }
   ],
   "source": [
    "for index in range(len(weights_of_persons)):\n",
    "    label_index = labels[index]\n",
    "    print(weights_of_persons[index], label_index, categories[label_index])"
   ]
  },
  {
   "cell_type": "markdown",
   "id": "ad19d7eb",
   "metadata": {},
   "source": [
    "### Naming Bins"
   ]
  },
  {
   "cell_type": "code",
   "execution_count": 29,
   "id": "c49a333d",
   "metadata": {},
   "outputs": [
    {
     "data": {
      "text/plain": [
       "None               6\n",
       "cum laude          2\n",
       "summa cum laude    2\n",
       "Magna cum laude    1\n",
       "dtype: int64"
      ]
     },
     "execution_count": 29,
     "metadata": {},
     "output_type": "execute_result"
    }
   ],
   "source": [
    "degrees = ['None', 'cum laude', 'Magna cum laude', 'summa cum laude']\n",
    "student_results = [3.93, 3.24, 2.80, 2.83, 3.91, 3.698, 3.731, 3.25, 3.24, 3.82, 3.22]\n",
    "\n",
    "student_result_degrees = pd.cut(student_results, [0, 3.6, 3.8, 3.9, 4.0], labels=degrees)\n",
    "pd.value_counts(student_result_degrees)"
   ]
  },
  {
   "cell_type": "code",
   "execution_count": 32,
   "id": "641443e1",
   "metadata": {},
   "outputs": [
    {
     "name": "stdout",
     "output_type": "stream",
     "text": [
      "3.93 3 summa cum laude\n",
      "3.24 0 None\n",
      "2.8 0 None\n",
      "2.83 0 None\n",
      "3.91 3 summa cum laude\n",
      "3.698 1 cum laude\n",
      "3.731 1 cum laude\n",
      "3.25 0 None\n",
      "3.24 0 None\n",
      "3.82 2 Magna cum laude\n",
      "3.22 0 None\n"
     ]
    }
   ],
   "source": [
    "labels = student_result_degrees.codes\n",
    "categories = student_result_degrees.categories\n",
    "for index in range(len(student_results)):\n",
    "    label_index = labels[index]\n",
    "    print(student_results[index], label_index, categories[label_index] )"
   ]
  },
  {
   "cell_type": "markdown",
   "id": "3e561c26",
   "metadata": {},
   "source": [
    "## Advanced or Muti-level indexing"
   ]
  },
  {
   "cell_type": "code",
   "execution_count": 35,
   "id": "f79d9746",
   "metadata": {},
   "outputs": [
    {
     "name": "stdout",
     "output_type": "stream",
     "text": [
      "[['Vienna', 'Vienna', 'Vienna', 'Hamburg', 'Hamburg', 'Hamburg', 'Berlin', 'Berlin', 'Berlin', 'Zürich', 'Zürich', 'Zürich'], ['country', 'area', 'population', 'country', 'area', 'population', 'country', 'area', 'population', 'country', 'area', 'population']]\n"
     ]
    }
   ],
   "source": [
    "import pandas as pd\n",
    "\n",
    "cities = [\"Vienna\", \"Vienna\", \"Vienna\",\n",
    "          \"Hamburg\", \"Hamburg\", \"Hamburg\",\n",
    "          \"Berlin\", \"Berlin\", \"Berlin\",\n",
    "          \"Zürich\", \"Zürich\", \"Zürich\"]\n",
    "\n",
    "index = [cities, [\"country\", \"area\", \"population\",\n",
    "                  \"country\", \"area\", \"population\",\n",
    "                  \"country\", \"area\", \"population\",\n",
    "                  \"country\", \"area\", \"population\"]]\n",
    "\n",
    "print(index)"
   ]
  },
  {
   "cell_type": "code",
   "execution_count": 37,
   "id": "0a82ea52",
   "metadata": {},
   "outputs": [
    {
     "data": {
      "text/plain": [
       "Vienna   country           Austria\n",
       "         area                414.6\n",
       "         population        1805681\n",
       "Hamburg  country           Germany\n",
       "         area                755.0\n",
       "         population        1760433\n",
       "Berlin   country           Germany\n",
       "         area               891.85\n",
       "         population        3562166\n",
       "Zürich   country       Switzerland\n",
       "         area                87.88\n",
       "         population         378884\n",
       "dtype: object"
      ]
     },
     "execution_count": 37,
     "metadata": {},
     "output_type": "execute_result"
    }
   ],
   "source": [
    "data = [\"Austria\", 414.60, 1805681,\n",
    "        \"Germany\", 755.00, 1760433,\n",
    "        \"Germany\", 891.85, 3562166,\n",
    "        \"Switzerland\", 87.88, 378884]\n",
    "df  = pd.Series(data, index=index)\n",
    "df"
   ]
  },
  {
   "cell_type": "markdown",
   "id": "dc82ea4c",
   "metadata": {},
   "source": [
    "I can access the data of a city in the following way:"
   ]
  },
  {
   "cell_type": "code",
   "execution_count": 39,
   "id": "281dd23c",
   "metadata": {},
   "outputs": [
    {
     "data": {
      "text/plain": [
       "country       Austria\n",
       "area            414.6\n",
       "population    1805681\n",
       "dtype: object"
      ]
     },
     "execution_count": 39,
     "metadata": {},
     "output_type": "execute_result"
    }
   ],
   "source": [
    "df['Vienna']"
   ]
  },
  {
   "cell_type": "markdown",
   "id": "5396d477",
   "metadata": {},
   "source": [
    "I can also access the information about the country, area or population of a city. I can do this in two ways:"
   ]
  },
  {
   "cell_type": "code",
   "execution_count": 40,
   "id": "ea2fb803",
   "metadata": {},
   "outputs": [
    {
     "data": {
      "text/plain": [
       "414.6"
      ]
     },
     "execution_count": 40,
     "metadata": {},
     "output_type": "execute_result"
    }
   ],
   "source": [
    "df['Vienna']['area']"
   ]
  },
  {
   "cell_type": "code",
   "execution_count": 41,
   "id": "503d8180",
   "metadata": {},
   "outputs": [
    {
     "data": {
      "text/plain": [
       "414.6"
      ]
     },
     "execution_count": 41,
     "metadata": {},
     "output_type": "execute_result"
    }
   ],
   "source": [
    "df['Vienna', 'area']"
   ]
  },
  {
   "cell_type": "markdown",
   "id": "76e7eafc",
   "metadata": {},
   "source": [
    "I can also get the content of multiple cities at the same time by using a list of city names as the key."
   ]
  },
  {
   "cell_type": "code",
   "execution_count": 50,
   "id": "e93060ee",
   "metadata": {},
   "outputs": [
    {
     "data": {
      "text/plain": [
       "country       Germany\n",
       "area           891.85\n",
       "population    3562166\n",
       "dtype: object"
      ]
     },
     "execution_count": 50,
     "metadata": {},
     "output_type": "execute_result"
    }
   ],
   "source": [
    "df['Berlin',:]"
   ]
  },
  {
   "cell_type": "markdown",
   "id": "92a7e9db",
   "metadata": {},
   "source": [
    "If the index is sorted, I can also apply a slicing operation:"
   ]
  },
  {
   "cell_type": "code",
   "execution_count": 54,
   "id": "4468d0a6",
   "metadata": {},
   "outputs": [
    {
     "name": "stdout",
     "output_type": "stream",
     "text": [
      "city_series with sorted index:\n",
      "Berlin   area               891.85\n",
      "         country           Germany\n",
      "         population        3562166\n",
      "Hamburg  area                755.0\n",
      "         country           Germany\n",
      "         population        1760433\n",
      "Vienna   area                414.6\n",
      "         country           Austria\n",
      "         population        1805681\n",
      "Zürich   area                87.88\n",
      "         country       Switzerland\n",
      "         population         378884\n",
      "dtype: object\n"
     ]
    }
   ],
   "source": [
    "city_series = df.sort_index()\n",
    "print(\"city_series with sorted index:\")\n",
    "print(city_series)"
   ]
  },
  {
   "cell_type": "code",
   "execution_count": 55,
   "id": "945b3126",
   "metadata": {},
   "outputs": [
    {
     "name": "stdout",
     "output_type": "stream",
     "text": [
      "Slicing the city_series:\n"
     ]
    },
    {
     "data": {
      "text/plain": [
       "Berlin   area           891.85\n",
       "         country       Germany\n",
       "         population    3562166\n",
       "Hamburg  area            755.0\n",
       "         country       Germany\n",
       "         population    1760433\n",
       "Vienna   area            414.6\n",
       "         country       Austria\n",
       "         population    1805681\n",
       "dtype: object"
      ]
     },
     "execution_count": 55,
     "metadata": {},
     "output_type": "execute_result"
    }
   ],
   "source": [
    "print(\"Slicing the city_series:\")\n",
    "city_series[\"Berlin\":\"Vienna\"]"
   ]
  },
  {
   "cell_type": "markdown",
   "id": "d78f0257",
   "metadata": {},
   "source": [
    "It is also possible to access the inner keys as well"
   ]
  },
  {
   "cell_type": "code",
   "execution_count": 57,
   "id": "82af76f4",
   "metadata": {},
   "outputs": [
    {
     "name": "stdout",
     "output_type": "stream",
     "text": [
      "Berlin     3562166\n",
      "Hamburg    1760433\n",
      "Vienna     1805681\n",
      "Zürich      378884\n",
      "dtype: object\n"
     ]
    }
   ],
   "source": [
    "print(city_series[:, \"population\"])"
   ]
  },
  {
   "cell_type": "markdown",
   "id": "d47940bd",
   "metadata": {},
   "source": [
    "### Swapping multiindex levels"
   ]
  },
  {
   "cell_type": "code",
   "execution_count": 64,
   "id": "10aa3512",
   "metadata": {},
   "outputs": [
    {
     "data": {
      "text/plain": [
       "Berlin   area               891.85\n",
       "         country           Germany\n",
       "         population        3562166\n",
       "Hamburg  area                755.0\n",
       "         country           Germany\n",
       "         population        1760433\n",
       "Vienna   area                414.6\n",
       "         country           Austria\n",
       "         population        1805681\n",
       "Zürich   area                87.88\n",
       "         country       Switzerland\n",
       "         population         378884\n",
       "dtype: object"
      ]
     },
     "execution_count": 64,
     "metadata": {},
     "output_type": "execute_result"
    }
   ],
   "source": [
    "city_series = city_series.swaplevel()\n",
    "city_series.sort_index(inplace=True)\n",
    "city_series"
   ]
  },
  {
   "cell_type": "markdown",
   "id": "810fb427",
   "metadata": {},
   "source": [
    "## Python date and time\n",
    "\n",
    "### The date class"
   ]
  },
  {
   "cell_type": "code",
   "execution_count": 67,
   "id": "dbf452b4",
   "metadata": {},
   "outputs": [
    {
     "name": "stdout",
     "output_type": "stream",
     "text": [
      "1999-11-15\n"
     ]
    }
   ],
   "source": [
    "from datetime import date\n",
    "x = date(1999, 11, 15)\n",
    "print(x)"
   ]
  },
  {
   "cell_type": "code",
   "execution_count": 68,
   "id": "7fdcfcb2",
   "metadata": {},
   "outputs": [
    {
     "name": "stdout",
     "output_type": "stream",
     "text": [
      "0001-01-01\n",
      "9999-12-31\n"
     ]
    }
   ],
   "source": [
    "print(date.min)\n",
    "print(date.max)"
   ]
  },
  {
   "cell_type": "markdown",
   "id": "d9112037",
   "metadata": {},
   "source": [
    "I can apply various methods to the date instance above. The method toordinal returns the proleptic Gregorian ordinal."
   ]
  },
  {
   "cell_type": "code",
   "execution_count": 69,
   "id": "f8d8337e",
   "metadata": {},
   "outputs": [
    {
     "data": {
      "text/plain": [
       "730073"
      ]
     },
     "execution_count": 69,
     "metadata": {},
     "output_type": "execute_result"
    }
   ],
   "source": [
    "x.toordinal()"
   ]
  },
  {
   "cell_type": "markdown",
   "id": "a53378e3",
   "metadata": {},
   "source": [
    "It is also possible to calculate a date from a ordinal by using the class method \"fromordinal\""
   ]
  },
  {
   "cell_type": "code",
   "execution_count": 71,
   "id": "085cb904",
   "metadata": {},
   "outputs": [
    {
     "data": {
      "text/plain": [
       "datetime.date(1999, 11, 15)"
      ]
     },
     "execution_count": 71,
     "metadata": {},
     "output_type": "execute_result"
    }
   ],
   "source": [
    "date.fromordinal(730073)"
   ]
  },
  {
   "cell_type": "markdown",
   "id": "73abb719",
   "metadata": {},
   "source": [
    "If I want to know the weekday of a certain date, I can calculate it by using the method weekday:"
   ]
  },
  {
   "cell_type": "code",
   "execution_count": 72,
   "id": "ee98d81f",
   "metadata": {},
   "outputs": [
    {
     "data": {
      "text/plain": [
       "0"
      ]
     },
     "execution_count": 72,
     "metadata": {},
     "output_type": "execute_result"
    }
   ],
   "source": [
    "x.weekday()  #monday == 0 --- sunday == 6"
   ]
  },
  {
   "cell_type": "code",
   "execution_count": 73,
   "id": "fe5bd268",
   "metadata": {},
   "outputs": [
    {
     "data": {
      "text/plain": [
       "datetime.date(2023, 3, 16)"
      ]
     },
     "execution_count": 73,
     "metadata": {},
     "output_type": "execute_result"
    }
   ],
   "source": [
    "date.today()"
   ]
  },
  {
   "cell_type": "markdown",
   "id": "9d336d52",
   "metadata": {},
   "source": [
    "I can access the day, month and year with attributes:"
   ]
  },
  {
   "cell_type": "code",
   "execution_count": 74,
   "id": "a0ae1879",
   "metadata": {},
   "outputs": [
    {
     "name": "stdout",
     "output_type": "stream",
     "text": [
      "15\n",
      "11\n",
      "1999\n"
     ]
    }
   ],
   "source": [
    "print(x.day)\n",
    "print(x.month)\n",
    "print(x.year)"
   ]
  },
  {
   "cell_type": "markdown",
   "id": "4a3b7cb1",
   "metadata": {},
   "source": [
    "### The time class"
   ]
  },
  {
   "cell_type": "code",
   "execution_count": 75,
   "id": "c801eeba",
   "metadata": {},
   "outputs": [
    {
     "name": "stdout",
     "output_type": "stream",
     "text": [
      "10:04:45\n"
     ]
    }
   ],
   "source": [
    "from datetime import time\n",
    "t = time(10, 4, 45)\n",
    "print(t)"
   ]
  },
  {
   "cell_type": "markdown",
   "id": "8bce78bb",
   "metadata": {},
   "source": [
    "The possible times range between:"
   ]
  },
  {
   "cell_type": "code",
   "execution_count": 76,
   "id": "044b7f20",
   "metadata": {},
   "outputs": [
    {
     "name": "stdout",
     "output_type": "stream",
     "text": [
      "00:00:00\n",
      "23:59:59.999999\n"
     ]
    }
   ],
   "source": [
    "print(time.min)\n",
    "print(time.max)"
   ]
  },
  {
   "cell_type": "markdown",
   "id": "ee06af0b",
   "metadata": {},
   "source": [
    "Accessing 'hour', 'minute' and 'second':"
   ]
  },
  {
   "cell_type": "code",
   "execution_count": 77,
   "id": "d9a2a6c7",
   "metadata": {},
   "outputs": [
    {
     "data": {
      "text/plain": [
       "(10, 4, 45)"
      ]
     },
     "execution_count": 77,
     "metadata": {},
     "output_type": "execute_result"
    }
   ],
   "source": [
    "t.hour, t.minute, t.second"
   ]
  },
  {
   "cell_type": "markdown",
   "id": "5cf5165a",
   "metadata": {},
   "source": [
    "Each component of a time instance can be changed by using 'replace':"
   ]
  },
  {
   "cell_type": "code",
   "execution_count": 78,
   "id": "a4f67778",
   "metadata": {},
   "outputs": [
    {
     "data": {
      "text/plain": [
       "datetime.time(10, 34, 20)"
      ]
     },
     "execution_count": 78,
     "metadata": {},
     "output_type": "execute_result"
    }
   ],
   "source": [
    "t = t.replace(minute=34, second=20)\n",
    "t"
   ]
  },
  {
   "cell_type": "markdown",
   "id": "b093f20d",
   "metadata": {},
   "source": [
    "I can render a date as a C-style like string, corresponding to the C ctime function:"
   ]
  },
  {
   "cell_type": "code",
   "execution_count": 79,
   "id": "508aaa43",
   "metadata": {},
   "outputs": [
    {
     "data": {
      "text/plain": [
       "'Mon Nov 15 00:00:00 1999'"
      ]
     },
     "execution_count": 79,
     "metadata": {},
     "output_type": "execute_result"
    }
   ],
   "source": [
    "x.ctime()"
   ]
  },
  {
   "cell_type": "markdown",
   "id": "d0383729",
   "metadata": {},
   "source": [
    "### The datetime class\n",
    "The datetime module provides us with functions and methods for manipulating dates and times. There are two kinds of date and time objects:\n",
    "• naive\n",
    "• aware"
   ]
  },
  {
   "cell_type": "code",
   "execution_count": 80,
   "id": "6088ab1a",
   "metadata": {},
   "outputs": [
    {
     "data": {
      "text/plain": [
       "datetime.datetime(2017, 4, 19, 16, 31)"
      ]
     },
     "execution_count": 80,
     "metadata": {},
     "output_type": "execute_result"
    }
   ],
   "source": [
    "from datetime import datetime\n",
    "t = datetime(2017, 4, 19, 16, 31, 0)\n",
    "t"
   ]
  },
  {
   "cell_type": "code",
   "execution_count": 81,
   "id": "247795e5",
   "metadata": {},
   "outputs": [
    {
     "data": {
      "text/plain": [
       "True"
      ]
     },
     "execution_count": 81,
     "metadata": {},
     "output_type": "execute_result"
    }
   ],
   "source": [
    "#t is naive, because the following is True:\n",
    "t.tzinfo == None"
   ]
  },
  {
   "cell_type": "code",
   "execution_count": 84,
   "id": "abf45d14",
   "metadata": {},
   "outputs": [
    {
     "data": {
      "text/plain": [
       "datetime.datetime(2023, 3, 16, 7, 44, 51, 255237, tzinfo=<UTC>)"
      ]
     },
     "execution_count": 84,
     "metadata": {},
     "output_type": "execute_result"
    }
   ],
   "source": [
    "from datetime import datetime\n",
    "import pytz\n",
    "\n",
    "t = datetime.now(pytz.utc)\n",
    "t"
   ]
  },
  {
   "cell_type": "markdown",
   "id": "fa5b9b2e",
   "metadata": {},
   "source": [
    "### Converting datetime objects into strings"
   ]
  },
  {
   "cell_type": "code",
   "execution_count": 85,
   "id": "4ceb7fc9",
   "metadata": {},
   "outputs": [
    {
     "data": {
      "text/plain": [
       "'1991-04-30 00:00:00'"
      ]
     },
     "execution_count": 85,
     "metadata": {},
     "output_type": "execute_result"
    }
   ],
   "source": [
    "d1 = datetime(1991, 4, 30)\n",
    "s = str(d1)\n",
    "s"
   ]
  },
  {
   "cell_type": "markdown",
   "id": "da6ba156",
   "metadata": {},
   "source": [
    "### Creating datetime objects from strings"
   ]
  },
  {
   "cell_type": "code",
   "execution_count": 89,
   "id": "10bfdc3f",
   "metadata": {},
   "outputs": [
    {
     "data": {
      "text/plain": [
       "datetime.datetime(1999, 11, 15, 0, 0)"
      ]
     },
     "execution_count": 89,
     "metadata": {},
     "output_type": "execute_result"
    }
   ],
   "source": [
    "from datetime import datetime\n",
    "\n",
    "t = datetime.strptime('15 November 1999', '%d %B %Y')\n",
    "t"
   ]
  },
  {
   "cell_type": "code",
   "execution_count": 90,
   "id": "7b9f6de6",
   "metadata": {},
   "outputs": [
    {
     "data": {
      "text/plain": [
       "datetime.datetime(2007, 3, 4, 21, 8, 12)"
      ]
     },
     "execution_count": 90,
     "metadata": {},
     "output_type": "execute_result"
    }
   ],
   "source": [
    "dt = \"2007-03-04T21:08:12\"\n",
    "datetime.strptime(dt, \"%Y-%m-%dT%H:%M:%S\" )"
   ]
  },
  {
   "cell_type": "code",
   "execution_count": 91,
   "id": "3603012e",
   "metadata": {},
   "outputs": [
    {
     "data": {
      "text/plain": [
       "datetime.datetime(1957, 12, 24, 4, 3, 29)"
      ]
     },
     "execution_count": 91,
     "metadata": {},
     "output_type": "execute_result"
    }
   ],
   "source": [
    "dt = '12/24/1957 4:03:29 AM'\n",
    "dt = datetime.strptime(dt, '%m/%d/%Y %I:%M:%S %p')\n",
    "dt"
   ]
  },
  {
   "cell_type": "code",
   "execution_count": 94,
   "id": "930a0b68",
   "metadata": {},
   "outputs": [
    {
     "name": "stdout",
     "output_type": "stream",
     "text": [
      "2017-04-12 20:29:53\n"
     ]
    }
   ],
   "source": [
    "dt = 'Wednesday April 12 20:29:53 2017'\n",
    "dt = datetime.strptime(dt, '%A %B %d %H:%M:%S %Y')\n",
    "print(dt)"
   ]
  },
  {
   "cell_type": "markdown",
   "id": "626bb6c5",
   "metadata": {},
   "source": [
    "Though datetime.strptime is an easy way to parse a date with a known format, it can be quote complicated and cumbersome to write every time a new specification string for new date formats."
   ]
  },
  {
   "cell_type": "code",
   "execution_count": 95,
   "id": "7299ed4a",
   "metadata": {},
   "outputs": [
    {
     "data": {
      "text/plain": [
       "datetime.datetime(1999, 11, 15, 0, 0)"
      ]
     },
     "execution_count": 95,
     "metadata": {},
     "output_type": "execute_result"
    }
   ],
   "source": [
    "from dateutil.parser import parse\n",
    "parse('15 November 1999')"
   ]
  },
  {
   "cell_type": "code",
   "execution_count": 98,
   "id": "90f7d9e3",
   "metadata": {},
   "outputs": [
    {
     "data": {
      "text/plain": [
       "datetime.datetime(2017, 4, 12, 20, 29, 53)"
      ]
     },
     "execution_count": 98,
     "metadata": {},
     "output_type": "execute_result"
    }
   ],
   "source": [
    "t = parse('Wednesday April 12 20:29:53 2017')\n",
    "t"
   ]
  },
  {
   "cell_type": "markdown",
   "id": "413526ef",
   "metadata": {},
   "source": [
    "## Python, Pandas and Time series\n",
    "\n",
    "### Time series in pandas and python"
   ]
  },
  {
   "cell_type": "code",
   "execution_count": 103,
   "id": "85dbf2dc",
   "metadata": {},
   "outputs": [
    {
     "data": {
      "text/plain": [
       "2017-03-31    25\n",
       "2017-03-30    50\n",
       "2017-03-29    15\n",
       "2017-03-28    67\n",
       "2017-03-27    70\n",
       "2017-03-26     9\n",
       "2017-03-25    28\n",
       "2017-03-24    30\n",
       "2017-03-23    32\n",
       "2017-03-22    12\n",
       "dtype: int64"
      ]
     },
     "execution_count": 103,
     "metadata": {},
     "output_type": "execute_result"
    }
   ],
   "source": [
    "import numpy as np\n",
    "import pandas as pd\n",
    "\n",
    "from datetime import datetime, timedelta as delta\n",
    "\n",
    "ndays = 10\n",
    "start = datetime(2017, 3, 31)\n",
    "dates = [(start - delta(days=x)) for x in range(0, ndays)]\n",
    "values = [25, 50, 15, 67, 70, 9, 28, 30, 32, 12]\n",
    "\n",
    "ts = pd.Series(values, index=dates)\n",
    "ts"
   ]
  },
  {
   "cell_type": "code",
   "execution_count": 104,
   "id": "bc12ad93",
   "metadata": {},
   "outputs": [
    {
     "data": {
      "text/plain": [
       "pandas.core.series.Series"
      ]
     },
     "execution_count": 104,
     "metadata": {},
     "output_type": "execute_result"
    }
   ],
   "source": [
    "type(ts)"
   ]
  },
  {
   "cell_type": "code",
   "execution_count": 105,
   "id": "96758df7",
   "metadata": {},
   "outputs": [
    {
     "data": {
      "text/plain": [
       "DatetimeIndex(['2017-03-31', '2017-03-30', '2017-03-29', '2017-03-28',\n",
       "               '2017-03-27', '2017-03-26', '2017-03-25', '2017-03-24',\n",
       "               '2017-03-23', '2017-03-22'],\n",
       "              dtype='datetime64[ns]', freq=None)"
      ]
     },
     "execution_count": 105,
     "metadata": {},
     "output_type": "execute_result"
    }
   ],
   "source": [
    "ts.index"
   ]
  },
  {
   "cell_type": "code",
   "execution_count": 106,
   "id": "8db6e592",
   "metadata": {},
   "outputs": [
    {
     "data": {
      "text/plain": [
       "2017-03-31    32\n",
       "2017-03-30    54\n",
       "2017-03-29    18\n",
       "2017-03-28    61\n",
       "2017-03-27    72\n",
       "2017-03-26    19\n",
       "2017-03-25    21\n",
       "2017-03-24    33\n",
       "2017-03-23    29\n",
       "2017-03-22    17\n",
       "dtype: int64"
      ]
     },
     "execution_count": 106,
     "metadata": {},
     "output_type": "execute_result"
    }
   ],
   "source": [
    "values2 = [32, 54, 18, 61, 72, 19, 21, 33, 29, 17]\n",
    "ts2 = pd.Series(values2, index=dates)\n",
    "ts2"
   ]
  },
  {
   "cell_type": "markdown",
   "id": "4c533767",
   "metadata": {},
   "source": [
    "It is possible to use arithmetic operations on time series like we did with other series"
   ]
  },
  {
   "cell_type": "code",
   "execution_count": 107,
   "id": "0fb706e5",
   "metadata": {},
   "outputs": [
    {
     "data": {
      "text/plain": [
       "2017-03-31     57\n",
       "2017-03-30    104\n",
       "2017-03-29     33\n",
       "2017-03-28    128\n",
       "2017-03-27    142\n",
       "2017-03-26     28\n",
       "2017-03-25     49\n",
       "2017-03-24     63\n",
       "2017-03-23     61\n",
       "2017-03-22     29\n",
       "dtype: int64"
      ]
     },
     "execution_count": 107,
     "metadata": {},
     "output_type": "execute_result"
    }
   ],
   "source": [
    "ts + ts2"
   ]
  },
  {
   "cell_type": "markdown",
   "id": "23867df2",
   "metadata": {},
   "source": [
    "Arithmetic mean between both Series."
   ]
  },
  {
   "cell_type": "code",
   "execution_count": 109,
   "id": "c963fd65",
   "metadata": {},
   "outputs": [
    {
     "data": {
      "text/plain": [
       "2017-03-31    28.5\n",
       "2017-03-30    52.0\n",
       "2017-03-29    16.5\n",
       "2017-03-28    64.0\n",
       "2017-03-27    71.0\n",
       "2017-03-26    14.0\n",
       "2017-03-25    24.5\n",
       "2017-03-24    31.5\n",
       "2017-03-23    30.5\n",
       "2017-03-22    14.5\n",
       "dtype: float64"
      ]
     },
     "execution_count": 109,
     "metadata": {},
     "output_type": "execute_result"
    }
   ],
   "source": [
    "(ts + ts2) / 2"
   ]
  },
  {
   "cell_type": "code",
   "execution_count": 112,
   "id": "b355bab2",
   "metadata": {},
   "outputs": [],
   "source": [
    "import pandas as pd\n",
    "from datetime import datetime, timedelta as delta\n",
    "\n",
    "ndays = 10\n",
    "start = datetime(2017, 3, 31)\n",
    "dates = [start - delta(days=x) for x in range(0, ndays)]\n",
    "\n",
    "start2 = datetime(2017, 3, 26)\n",
    "dates2 = [start2 - delta(days=x) for x in range(0, ndays)]\n",
    "\n",
    "values = [25, 50, 15, 67, 70, 9, 28, 30, 32, 12]\n",
    "values2 = [32, 54, 18, 61, 72, 19, 21, 33, 29, 17]\n",
    "\n",
    "ts = pd.Series(values, index=dates)\n",
    "ts2 = pd.Series(values2, index=dates2)"
   ]
  },
  {
   "cell_type": "code",
   "execution_count": 114,
   "id": "7a9a062d",
   "metadata": {},
   "outputs": [
    {
     "data": {
      "text/plain": [
       "2017-03-31    25\n",
       "2017-03-30    50\n",
       "2017-03-29    15\n",
       "2017-03-28    67\n",
       "2017-03-27    70\n",
       "2017-03-26     9\n",
       "2017-03-25    28\n",
       "2017-03-24    30\n",
       "2017-03-23    32\n",
       "2017-03-22    12\n",
       "dtype: int64"
      ]
     },
     "execution_count": 114,
     "metadata": {},
     "output_type": "execute_result"
    }
   ],
   "source": [
    "ts"
   ]
  },
  {
   "cell_type": "code",
   "execution_count": 115,
   "id": "2e55cb57",
   "metadata": {},
   "outputs": [
    {
     "data": {
      "text/plain": [
       "2017-03-26    32\n",
       "2017-03-25    54\n",
       "2017-03-24    18\n",
       "2017-03-23    61\n",
       "2017-03-22    72\n",
       "2017-03-21    19\n",
       "2017-03-20    21\n",
       "2017-03-19    33\n",
       "2017-03-18    29\n",
       "2017-03-17    17\n",
       "dtype: int64"
      ]
     },
     "execution_count": 115,
     "metadata": {},
     "output_type": "execute_result"
    }
   ],
   "source": [
    "ts2"
   ]
  },
  {
   "cell_type": "code",
   "execution_count": 116,
   "id": "a60e5a38",
   "metadata": {},
   "outputs": [
    {
     "data": {
      "text/plain": [
       "2017-03-17     NaN\n",
       "2017-03-18     NaN\n",
       "2017-03-19     NaN\n",
       "2017-03-20     NaN\n",
       "2017-03-21     NaN\n",
       "2017-03-22    84.0\n",
       "2017-03-23    93.0\n",
       "2017-03-24    48.0\n",
       "2017-03-25    82.0\n",
       "2017-03-26    41.0\n",
       "2017-03-27     NaN\n",
       "2017-03-28     NaN\n",
       "2017-03-29     NaN\n",
       "2017-03-30     NaN\n",
       "2017-03-31     NaN\n",
       "Freq: D, dtype: float64"
      ]
     },
     "execution_count": 116,
     "metadata": {},
     "output_type": "execute_result"
    }
   ],
   "source": [
    "ts + ts2"
   ]
  },
  {
   "cell_type": "markdown",
   "id": "087f4a47",
   "metadata": {},
   "source": [
    "### Creating date ranges\n",
    "The date_range method of the pandas module can be used to generate a DatetimeIndex:"
   ]
  },
  {
   "cell_type": "code",
   "execution_count": 117,
   "id": "e4edf371",
   "metadata": {},
   "outputs": [
    {
     "data": {
      "text/plain": [
       "DatetimeIndex(['1970-12-24', '1970-12-25', '1970-12-26', '1970-12-27',\n",
       "               '1970-12-28', '1970-12-29', '1970-12-30', '1970-12-31',\n",
       "               '1971-01-01', '1971-01-02', '1971-01-03'],\n",
       "              dtype='datetime64[ns]', freq='D')"
      ]
     },
     "execution_count": 117,
     "metadata": {},
     "output_type": "execute_result"
    }
   ],
   "source": [
    "import pandas as pd\n",
    "\n",
    "dates = pd.date_range('12/24/1970', '01/03/1971')\n",
    "dates"
   ]
  },
  {
   "cell_type": "markdown",
   "id": "75d6f2d2",
   "metadata": {},
   "source": [
    "I passed a start and an end date to date_range in my previous example. It is also possible to pass only a start or an end date to the function."
   ]
  },
  {
   "cell_type": "code",
   "execution_count": 118,
   "id": "8c101d98",
   "metadata": {},
   "outputs": [
    {
     "data": {
      "text/plain": [
       "DatetimeIndex(['1970-12-24', '1970-12-25', '1970-12-26', '1970-12-27',\n",
       "               '1970-12-28'],\n",
       "              dtype='datetime64[ns]', freq='D')"
      ]
     },
     "execution_count": 118,
     "metadata": {},
     "output_type": "execute_result"
    }
   ],
   "source": [
    "dates = pd.date_range(start='12/24/1970', periods=5)\n",
    "dates"
   ]
  },
  {
   "cell_type": "code",
   "execution_count": 119,
   "id": "3014c936",
   "metadata": {},
   "outputs": [
    {
     "data": {
      "text/plain": [
       "DatetimeIndex(['1970-12-22', '1970-12-23', '1970-12-24'], dtype='datetime64[ns]', freq='D')"
      ]
     },
     "execution_count": 119,
     "metadata": {},
     "output_type": "execute_result"
    }
   ],
   "source": [
    "dates = pd.date_range(end='12/24/1970', periods=3)\n",
    "dates"
   ]
  },
  {
   "cell_type": "markdown",
   "id": "e8f707b1",
   "metadata": {},
   "source": [
    "I can also create time frequencies, which consists only of business days by setting the keyword parameter 'freq' to the string 'B':"
   ]
  },
  {
   "cell_type": "code",
   "execution_count": 121,
   "id": "0dc42d30",
   "metadata": {},
   "outputs": [
    {
     "data": {
      "text/plain": [
       "DatetimeIndex(['2023-03-10', '2023-03-13', '2023-03-14', '2023-03-15',\n",
       "               '2023-03-16', '2023-03-17'],\n",
       "              dtype='datetime64[ns]', freq='B')"
      ]
     },
     "execution_count": 121,
     "metadata": {},
     "output_type": "execute_result"
    }
   ],
   "source": [
    "dates = pd.date_range('2023-3-10', '2023-3-17', freq='B')\n",
    "dates"
   ]
  },
  {
   "cell_type": "markdown",
   "id": "18023402",
   "metadata": {},
   "source": [
    "I'll create a time frequency which contains the month ends between two dates."
   ]
  },
  {
   "cell_type": "code",
   "execution_count": 122,
   "id": "b0f49b1d",
   "metadata": {},
   "outputs": [
    {
     "data": {
      "text/plain": [
       "DatetimeIndex(['2016-02-29', '2016-03-31', '2016-04-30', '2016-05-31',\n",
       "               '2016-06-30'],\n",
       "              dtype='datetime64[ns]', freq='M')"
      ]
     },
     "execution_count": 122,
     "metadata": {},
     "output_type": "execute_result"
    }
   ],
   "source": [
    "dates = pd.date_range('2016-02-25', '2016-07-02', freq=\"M\")\n",
    "dates"
   ]
  },
  {
   "cell_type": "code",
   "execution_count": null,
   "id": "b761b821",
   "metadata": {},
   "outputs": [],
   "source": []
  }
 ],
 "metadata": {
  "kernelspec": {
   "display_name": "Python 3 (ipykernel)",
   "language": "python",
   "name": "python3"
  },
  "language_info": {
   "codemirror_mode": {
    "name": "ipython",
    "version": 3
   },
   "file_extension": ".py",
   "mimetype": "text/x-python",
   "name": "python",
   "nbconvert_exporter": "python",
   "pygments_lexer": "ipython3",
   "version": "3.8.5"
  }
 },
 "nbformat": 4,
 "nbformat_minor": 5
}
