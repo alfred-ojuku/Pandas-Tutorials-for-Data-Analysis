{
 "cells": [
  {
   "cell_type": "markdown",
   "id": "1cea82a3",
   "metadata": {},
   "source": [
    "I'll will deal with simple Expense and Income tables for private usage. "
   ]
  },
  {
   "cell_type": "markdown",
   "id": "b3869220",
   "metadata": {},
   "source": [
    "## Private budgeting with python and pandas"
   ]
  },
  {
   "cell_type": "code",
   "execution_count": 1,
   "id": "43204b2c",
   "metadata": {},
   "outputs": [],
   "source": [
    "import pandas as pd\n",
    "import matplotlib.pyplot as plt"
   ]
  },
  {
   "cell_type": "code",
   "execution_count": 2,
   "id": "ec7949dc",
   "metadata": {},
   "outputs": [
    {
     "data": {
      "text/html": [
       "<div>\n",
       "<style scoped>\n",
       "    .dataframe tbody tr th:only-of-type {\n",
       "        vertical-align: middle;\n",
       "    }\n",
       "\n",
       "    .dataframe tbody tr th {\n",
       "        vertical-align: top;\n",
       "    }\n",
       "\n",
       "    .dataframe thead th {\n",
       "        text-align: right;\n",
       "    }\n",
       "</style>\n",
       "<table border=\"1\" class=\"dataframe\">\n",
       "  <thead>\n",
       "    <tr style=\"text-align: right;\">\n",
       "      <th></th>\n",
       "      <th>Date</th>\n",
       "      <th>Description</th>\n",
       "      <th>Category</th>\n",
       "      <th>Out</th>\n",
       "      <th>In</th>\n",
       "    </tr>\n",
       "  </thead>\n",
       "  <tbody>\n",
       "    <tr>\n",
       "      <th>0</th>\n",
       "      <td>2020-06-02</td>\n",
       "      <td>Salary Frank</td>\n",
       "      <td>Income</td>\n",
       "      <td>0.00</td>\n",
       "      <td>4896.44</td>\n",
       "    </tr>\n",
       "    <tr>\n",
       "      <th>1</th>\n",
       "      <td>2020-06-03</td>\n",
       "      <td>supermarket</td>\n",
       "      <td>food and beverages</td>\n",
       "      <td>132.40</td>\n",
       "      <td>0.00</td>\n",
       "    </tr>\n",
       "    <tr>\n",
       "      <th>2</th>\n",
       "      <td>2020-06-04</td>\n",
       "      <td>Salary Laura</td>\n",
       "      <td>Income</td>\n",
       "      <td>0.00</td>\n",
       "      <td>4910.14</td>\n",
       "    </tr>\n",
       "    <tr>\n",
       "      <th>3</th>\n",
       "      <td>2929-06-04</td>\n",
       "      <td>GreenEnergy Corp., (electricity)</td>\n",
       "      <td>utility</td>\n",
       "      <td>87.34</td>\n",
       "      <td>0.00</td>\n",
       "    </tr>\n",
       "    <tr>\n",
       "      <th>4</th>\n",
       "      <td>2020-06-09</td>\n",
       "      <td>water and sewage</td>\n",
       "      <td>utility</td>\n",
       "      <td>60.56</td>\n",
       "      <td>0.00</td>\n",
       "    </tr>\n",
       "    <tr>\n",
       "      <th>5</th>\n",
       "      <td>2020-06-10</td>\n",
       "      <td>Fitness studio, Jane</td>\n",
       "      <td>health and sports</td>\n",
       "      <td>19.00</td>\n",
       "      <td>0.00</td>\n",
       "    </tr>\n",
       "    <tr>\n",
       "      <th>6</th>\n",
       "      <td>2020-06-11</td>\n",
       "      <td>payment to bank</td>\n",
       "      <td>monthly redemption payment</td>\n",
       "      <td>1287.43</td>\n",
       "      <td>0.00</td>\n",
       "    </tr>\n",
       "    <tr>\n",
       "      <th>7</th>\n",
       "      <td>2020-06-12</td>\n",
       "      <td>LeGourmet Restaurant</td>\n",
       "      <td>restaurants and hotels</td>\n",
       "      <td>145.00</td>\n",
       "      <td>0.00</td>\n",
       "    </tr>\n",
       "    <tr>\n",
       "      <th>8</th>\n",
       "      <td>2020-06-13</td>\n",
       "      <td>supermarket</td>\n",
       "      <td>food and beverages</td>\n",
       "      <td>197.42</td>\n",
       "      <td>0.00</td>\n",
       "    </tr>\n",
       "    <tr>\n",
       "      <th>9</th>\n",
       "      <td>2020-06-13</td>\n",
       "      <td>Pizzeria da Pulcinella</td>\n",
       "      <td>restaurants and hotels</td>\n",
       "      <td>60.00</td>\n",
       "      <td>0.00</td>\n",
       "    </tr>\n",
       "    <tr>\n",
       "      <th>10</th>\n",
       "      <td>2020-06-26</td>\n",
       "      <td>supermarket</td>\n",
       "      <td>food and beverages</td>\n",
       "      <td>155.42</td>\n",
       "      <td>0.00</td>\n",
       "    </tr>\n",
       "    <tr>\n",
       "      <th>11</th>\n",
       "      <td>2020-06-27</td>\n",
       "      <td>theatre tickets</td>\n",
       "      <td>education and culture</td>\n",
       "      <td>125.00</td>\n",
       "      <td>0.00</td>\n",
       "    </tr>\n",
       "    <tr>\n",
       "      <th>12</th>\n",
       "      <td>2020-07-02</td>\n",
       "      <td>Salary Frank</td>\n",
       "      <td>Income</td>\n",
       "      <td>0.00</td>\n",
       "      <td>4896.44</td>\n",
       "    </tr>\n",
       "    <tr>\n",
       "      <th>13</th>\n",
       "      <td>2020-07-03</td>\n",
       "      <td>supermarket</td>\n",
       "      <td>food and beverages</td>\n",
       "      <td>147.90</td>\n",
       "      <td>0.00</td>\n",
       "    </tr>\n",
       "    <tr>\n",
       "      <th>14</th>\n",
       "      <td>2020-07-05</td>\n",
       "      <td>Salary Laura</td>\n",
       "      <td>Income</td>\n",
       "      <td>0.00</td>\n",
       "      <td>4910.14</td>\n",
       "    </tr>\n",
       "    <tr>\n",
       "      <th>15</th>\n",
       "      <td>2020-07-08</td>\n",
       "      <td>Golf Club, yearly payment</td>\n",
       "      <td>health and sports</td>\n",
       "      <td>612.18</td>\n",
       "      <td>0.00</td>\n",
       "    </tr>\n",
       "    <tr>\n",
       "      <th>16</th>\n",
       "      <td>2020-07-09</td>\n",
       "      <td>house insurance</td>\n",
       "      <td>insurances and taxes</td>\n",
       "      <td>167.89</td>\n",
       "      <td>0.00</td>\n",
       "    </tr>\n",
       "    <tr>\n",
       "      <th>17</th>\n",
       "      <td>2020-07-10</td>\n",
       "      <td>Fitness studio, Jane</td>\n",
       "      <td>health and sports</td>\n",
       "      <td>19.00</td>\n",
       "      <td>0.00</td>\n",
       "    </tr>\n",
       "    <tr>\n",
       "      <th>18</th>\n",
       "      <td>2020-07-10</td>\n",
       "      <td>supermarket</td>\n",
       "      <td>food and beverages</td>\n",
       "      <td>144.12</td>\n",
       "      <td>0.00</td>\n",
       "    </tr>\n",
       "    <tr>\n",
       "      <th>19</th>\n",
       "      <td>2020-07-11</td>\n",
       "      <td>payment to bank</td>\n",
       "      <td>monthly redemption payment</td>\n",
       "      <td>1287.43</td>\n",
       "      <td>0.00</td>\n",
       "    </tr>\n",
       "    <tr>\n",
       "      <th>20</th>\n",
       "      <td>2020-07-18</td>\n",
       "      <td>supermarket</td>\n",
       "      <td>food and beverages</td>\n",
       "      <td>211.24</td>\n",
       "      <td>0.00</td>\n",
       "    </tr>\n",
       "    <tr>\n",
       "      <th>21</th>\n",
       "      <td>2020-07-13</td>\n",
       "      <td>Pizzeria da Pulcinella</td>\n",
       "      <td>restaurants and hotels</td>\n",
       "      <td>33.00</td>\n",
       "      <td>0.00</td>\n",
       "    </tr>\n",
       "    <tr>\n",
       "      <th>22</th>\n",
       "      <td>2020-07-23</td>\n",
       "      <td>Cinema</td>\n",
       "      <td>education and culture</td>\n",
       "      <td>19.00</td>\n",
       "      <td>0.00</td>\n",
       "    </tr>\n",
       "    <tr>\n",
       "      <th>23</th>\n",
       "      <td>2020-07-25</td>\n",
       "      <td>supermarket</td>\n",
       "      <td>food and beverages</td>\n",
       "      <td>186.11</td>\n",
       "      <td>0.00</td>\n",
       "    </tr>\n",
       "  </tbody>\n",
       "</table>\n",
       "</div>"
      ],
      "text/plain": [
       "          Date                       Description                    Category  \\\n",
       "0   2020-06-02                      Salary Frank                      Income   \n",
       "1   2020-06-03                       supermarket          food and beverages   \n",
       "2   2020-06-04                      Salary Laura                      Income   \n",
       "3   2929-06-04  GreenEnergy Corp., (electricity)                     utility   \n",
       "4   2020-06-09                  water and sewage                     utility   \n",
       "5   2020-06-10              Fitness studio, Jane           health and sports   \n",
       "6   2020-06-11                   payment to bank  monthly redemption payment   \n",
       "7   2020-06-12              LeGourmet Restaurant      restaurants and hotels   \n",
       "8   2020-06-13                       supermarket          food and beverages   \n",
       "9   2020-06-13            Pizzeria da Pulcinella      restaurants and hotels   \n",
       "10  2020-06-26                       supermarket          food and beverages   \n",
       "11  2020-06-27                   theatre tickets       education and culture   \n",
       "12  2020-07-02                      Salary Frank                      Income   \n",
       "13  2020-07-03                       supermarket          food and beverages   \n",
       "14  2020-07-05                      Salary Laura                      Income   \n",
       "15  2020-07-08         Golf Club, yearly payment           health and sports   \n",
       "16  2020-07-09                   house insurance        insurances and taxes   \n",
       "17  2020-07-10              Fitness studio, Jane           health and sports   \n",
       "18  2020-07-10                       supermarket          food and beverages   \n",
       "19  2020-07-11                   payment to bank  monthly redemption payment   \n",
       "20  2020-07-18                       supermarket          food and beverages   \n",
       "21  2020-07-13            Pizzeria da Pulcinella      restaurants and hotels   \n",
       "22  2020-07-23                            Cinema       education and culture   \n",
       "23  2020-07-25                       supermarket          food and beverages   \n",
       "\n",
       "        Out       In  \n",
       "0      0.00  4896.44  \n",
       "1    132.40     0.00  \n",
       "2      0.00  4910.14  \n",
       "3     87.34     0.00  \n",
       "4     60.56     0.00  \n",
       "5     19.00     0.00  \n",
       "6   1287.43     0.00  \n",
       "7    145.00     0.00  \n",
       "8    197.42     0.00  \n",
       "9     60.00     0.00  \n",
       "10   155.42     0.00  \n",
       "11   125.00     0.00  \n",
       "12     0.00  4896.44  \n",
       "13   147.90     0.00  \n",
       "14     0.00  4910.14  \n",
       "15   612.18     0.00  \n",
       "16   167.89     0.00  \n",
       "17    19.00     0.00  \n",
       "18   144.12     0.00  \n",
       "19  1287.43     0.00  \n",
       "20   211.24     0.00  \n",
       "21    33.00     0.00  \n",
       "22    19.00     0.00  \n",
       "23   186.11     0.00  "
      ]
     },
     "execution_count": 2,
     "metadata": {},
     "output_type": "execute_result"
    }
   ],
   "source": [
    "path = 'data/expense_income.txt'\n",
    "exp_inc = pd.read_csv(path, sep=\";\")\n",
    "exp_inc"
   ]
  },
  {
   "cell_type": "markdown",
   "id": "af925be3",
   "metadata": {},
   "source": [
    "The balances of their expenses and incomes can be easily calculated by applying the sum on the DataFrame"
   ]
  },
  {
   "cell_type": "code",
   "execution_count": 3,
   "id": "35480fbb",
   "metadata": {},
   "outputs": [
    {
     "data": {
      "text/plain": [
       "Out     5097.44\n",
       "In     19613.16\n",
       "dtype: float64"
      ]
     },
     "execution_count": 3,
     "metadata": {},
     "output_type": "execute_result"
    }
   ],
   "source": [
    "exp_inc[['Out', 'In']].sum()"
   ]
  },
  {
   "cell_type": "markdown",
   "id": "6c9fe85e",
   "metadata": {},
   "source": [
    "Expenses summed up according to the different categories."
   ]
  },
  {
   "cell_type": "code",
   "execution_count": 4,
   "id": "59f0df60",
   "metadata": {},
   "outputs": [
    {
     "name": "stderr",
     "output_type": "stream",
     "text": [
      "C:\\Users\\LENOVO\\AppData\\Local\\Temp\\ipykernel_13572\\202682634.py:1: FutureWarning: The default value of numeric_only in DataFrameGroupBy.sum is deprecated. In a future version, numeric_only will default to False. Either specify numeric_only or select only columns which should be valid for the function.\n",
      "  category_sums = exp_inc.groupby('Category').sum()\n"
     ]
    },
    {
     "data": {
      "text/html": [
       "<div>\n",
       "<style scoped>\n",
       "    .dataframe tbody tr th:only-of-type {\n",
       "        vertical-align: middle;\n",
       "    }\n",
       "\n",
       "    .dataframe tbody tr th {\n",
       "        vertical-align: top;\n",
       "    }\n",
       "\n",
       "    .dataframe thead th {\n",
       "        text-align: right;\n",
       "    }\n",
       "</style>\n",
       "<table border=\"1\" class=\"dataframe\">\n",
       "  <thead>\n",
       "    <tr style=\"text-align: right;\">\n",
       "      <th></th>\n",
       "      <th>Out</th>\n",
       "      <th>In</th>\n",
       "    </tr>\n",
       "    <tr>\n",
       "      <th>Category</th>\n",
       "      <th></th>\n",
       "      <th></th>\n",
       "    </tr>\n",
       "  </thead>\n",
       "  <tbody>\n",
       "    <tr>\n",
       "      <th>Income</th>\n",
       "      <td>0.00</td>\n",
       "      <td>19613.16</td>\n",
       "    </tr>\n",
       "    <tr>\n",
       "      <th>education and culture</th>\n",
       "      <td>144.00</td>\n",
       "      <td>0.00</td>\n",
       "    </tr>\n",
       "    <tr>\n",
       "      <th>food and beverages</th>\n",
       "      <td>1174.61</td>\n",
       "      <td>0.00</td>\n",
       "    </tr>\n",
       "    <tr>\n",
       "      <th>health and sports</th>\n",
       "      <td>650.18</td>\n",
       "      <td>0.00</td>\n",
       "    </tr>\n",
       "    <tr>\n",
       "      <th>insurances and taxes</th>\n",
       "      <td>167.89</td>\n",
       "      <td>0.00</td>\n",
       "    </tr>\n",
       "    <tr>\n",
       "      <th>monthly redemption payment</th>\n",
       "      <td>2574.86</td>\n",
       "      <td>0.00</td>\n",
       "    </tr>\n",
       "    <tr>\n",
       "      <th>restaurants and hotels</th>\n",
       "      <td>238.00</td>\n",
       "      <td>0.00</td>\n",
       "    </tr>\n",
       "    <tr>\n",
       "      <th>utility</th>\n",
       "      <td>147.90</td>\n",
       "      <td>0.00</td>\n",
       "    </tr>\n",
       "  </tbody>\n",
       "</table>\n",
       "</div>"
      ],
      "text/plain": [
       "                                Out        In\n",
       "Category                                     \n",
       "Income                         0.00  19613.16\n",
       "education and culture        144.00      0.00\n",
       "food and beverages          1174.61      0.00\n",
       "health and sports            650.18      0.00\n",
       "insurances and taxes         167.89      0.00\n",
       "monthly redemption payment  2574.86      0.00\n",
       "restaurants and hotels       238.00      0.00\n",
       "utility                      147.90      0.00"
      ]
     },
     "execution_count": 4,
     "metadata": {},
     "output_type": "execute_result"
    }
   ],
   "source": [
    "category_sums = exp_inc.groupby('Category').sum()\n",
    "category_sums"
   ]
  },
  {
   "cell_type": "code",
   "execution_count": 5,
   "id": "e7b4ed86",
   "metadata": {},
   "outputs": [
    {
     "data": {
      "text/plain": [
       "Index(['Income', 'education and culture', 'food and beverages',\n",
       "       'health and sports', 'insurances and taxes',\n",
       "       'monthly redemption payment', 'restaurants and hotels', 'utility'],\n",
       "      dtype='object', name='Category')"
      ]
     },
     "execution_count": 5,
     "metadata": {},
     "output_type": "execute_result"
    }
   ],
   "source": [
    "category_sums.index"
   ]
  },
  {
   "cell_type": "code",
   "execution_count": 11,
   "id": "1bc09efb",
   "metadata": {},
   "outputs": [
    {
     "data": {
      "image/png": "[encoded data removed]",
      "text/plain": [
       "<Figure size 640x480 with 1 Axes>"
      ]
     },
     "metadata": {},
     "output_type": "display_data"
    }
   ],
   "source": [
    "ax = category_sums.plot.bar(y='Out')\n",
    "plt.xticks(rotation=90)\n",
    "plt.show()"
   ]
  },
  {
   "cell_type": "markdown",
   "id": "0031f86c",
   "metadata": {},
   "source": [
    "I can also display this as a pie chart:"
   ]
  },
  {
   "cell_type": "code",
   "execution_count": 19,
   "id": "535095f9",
   "metadata": {},
   "outputs": [
    {
     "data": {
      "text/plain": [
       "<matplotlib.legend.Legend at 0x1b70fb544c0>"
      ]
     },
     "execution_count": 19,
     "metadata": {},
     "output_type": "execute_result"
    },
    {
     "data": {
      "image/png": "[encoded data removed]",
      "text/plain": [
       "<Figure size 640x480 with 1 Axes>"
      ]
     },
     "metadata": {},
     "output_type": "display_data"
    }
   ],
   "source": [
    "ax1 = category_sums['Out'].plot.pie()\n",
    "ax1.legend(loc='upper left', bbox_to_anchor=(1.5, 1))"
   ]
  },
  {
   "cell_type": "code",
   "execution_count": 20,
   "id": "7142774e",
   "metadata": {},
   "outputs": [],
   "source": [
    "category2account = {'monthly redemption payment': '200',\n",
    "                    'insurances and taxes': '201',\n",
    "                    'food and beverages': '202',\n",
    "                    'education and culture': '203',\n",
    "                    'transport': '204',\n",
    "                    'health and sports': '205',\n",
    "                    'household goods and services': '206',\n",
    "                    'clothing': '207',\n",
    "                    'communications': '208',\n",
    "                    'restaurants and hotels': '209',\n",
    "                    'utility': '210',\n",
    "                    'other expenses': '211',\n",
    "                    'Income': '400'}"
   ]
  },
  {
   "cell_type": "code",
   "execution_count": 21,
   "id": "a82353e2",
   "metadata": {},
   "outputs": [],
   "source": [
    "exp_inc.replace(category2account, inplace=True)"
   ]
  },
  {
   "cell_type": "code",
   "execution_count": 23,
   "id": "a6732c98",
   "metadata": {},
   "outputs": [],
   "source": [
    "exp_inc.rename(columns={'Category':'Accounts'}, inplace=True)"
   ]
  },
  {
   "cell_type": "code",
   "execution_count": 24,
   "id": "8e04294d",
   "metadata": {},
   "outputs": [
    {
     "data": {
      "text/html": [
       "<div>\n",
       "<style scoped>\n",
       "    .dataframe tbody tr th:only-of-type {\n",
       "        vertical-align: middle;\n",
       "    }\n",
       "\n",
       "    .dataframe tbody tr th {\n",
       "        vertical-align: top;\n",
       "    }\n",
       "\n",
       "    .dataframe thead th {\n",
       "        text-align: right;\n",
       "    }\n",
       "</style>\n",
       "<table border=\"1\" class=\"dataframe\">\n",
       "  <thead>\n",
       "    <tr style=\"text-align: right;\">\n",
       "      <th></th>\n",
       "      <th>Date</th>\n",
       "      <th>Description</th>\n",
       "      <th>Accounts</th>\n",
       "      <th>Out</th>\n",
       "      <th>In</th>\n",
       "    </tr>\n",
       "  </thead>\n",
       "  <tbody>\n",
       "    <tr>\n",
       "      <th>0</th>\n",
       "      <td>2020-06-02</td>\n",
       "      <td>Salary Frank</td>\n",
       "      <td>400</td>\n",
       "      <td>0.00</td>\n",
       "      <td>4896.44</td>\n",
       "    </tr>\n",
       "    <tr>\n",
       "      <th>1</th>\n",
       "      <td>2020-06-03</td>\n",
       "      <td>supermarket</td>\n",
       "      <td>202</td>\n",
       "      <td>132.40</td>\n",
       "      <td>0.00</td>\n",
       "    </tr>\n",
       "    <tr>\n",
       "      <th>2</th>\n",
       "      <td>2020-06-04</td>\n",
       "      <td>Salary Laura</td>\n",
       "      <td>400</td>\n",
       "      <td>0.00</td>\n",
       "      <td>4910.14</td>\n",
       "    </tr>\n",
       "    <tr>\n",
       "      <th>3</th>\n",
       "      <td>2929-06-04</td>\n",
       "      <td>GreenEnergy Corp., (electricity)</td>\n",
       "      <td>210</td>\n",
       "      <td>87.34</td>\n",
       "      <td>0.00</td>\n",
       "    </tr>\n",
       "    <tr>\n",
       "      <th>4</th>\n",
       "      <td>2020-06-09</td>\n",
       "      <td>water and sewage</td>\n",
       "      <td>210</td>\n",
       "      <td>60.56</td>\n",
       "      <td>0.00</td>\n",
       "    </tr>\n",
       "  </tbody>\n",
       "</table>\n",
       "</div>"
      ],
      "text/plain": [
       "         Date                       Description Accounts     Out       In\n",
       "0  2020-06-02                      Salary Frank      400    0.00  4896.44\n",
       "1  2020-06-03                       supermarket      202  132.40     0.00\n",
       "2  2020-06-04                      Salary Laura      400    0.00  4910.14\n",
       "3  2929-06-04  GreenEnergy Corp., (electricity)      210   87.34     0.00\n",
       "4  2020-06-09                  water and sewage      210   60.56     0.00"
      ]
     },
     "execution_count": 24,
     "metadata": {},
     "output_type": "execute_result"
    }
   ],
   "source": [
    "exp_inc[:5]"
   ]
  },
  {
   "cell_type": "markdown",
   "id": "2b3c3ba9",
   "metadata": {},
   "source": [
    "I will save this DataFrame object now in an excel file. This excel file will have two sheets: One with the \"expenses and income\" journal and the other one with the mapping of account numbers to category names."
   ]
  },
  {
   "cell_type": "code",
   "execution_count": 34,
   "id": "d068762b",
   "metadata": {},
   "outputs": [
    {
     "data": {
      "text/plain": [
       "200      monthly redemption payment\n",
       "201            insurances and taxes\n",
       "202              food and beverages\n",
       "203           education and culture\n",
       "204                       transport\n",
       "205               health and sports\n",
       "206    household goods and services\n",
       "207                        clothing\n",
       "208                  communications\n",
       "209          restaurants and hotels\n",
       "210                         utility\n",
       "211                  other expenses\n",
       "400                          Income\n",
       "Name: Accounts, dtype: object"
      ]
     },
     "execution_count": 34,
     "metadata": {},
     "output_type": "execute_result"
    }
   ],
   "source": [
    "acc_no = pd.Series(list(category2account.keys()), index=category2account.values())\n",
    "acc_no.name = 'Accounts'\n",
    "acc_no"
   ]
  },
  {
   "cell_type": "code",
   "execution_count": 40,
   "id": "0dea2206",
   "metadata": {},
   "outputs": [
    {
     "name": "stderr",
     "output_type": "stream",
     "text": [
      "C:\\Users\\LENOVO\\AppData\\Local\\Temp\\ipykernel_13572\\358972651.py:4: FutureWarning: save is not part of the public API, usage can give unexpected results and will be removed in a future version\n",
      "  writer.save()\n"
     ]
    }
   ],
   "source": [
    "with pd.ExcelWriter('data/expenses_and_income_2020.xlsx') as writer:\n",
    "    acc_no.to_excel(writer, \"account numbers\")\n",
    "    exp_inc.to_excel(writer, \"Journal\")\n",
    "    writer.save()"
   ]
  },
  {
   "cell_type": "code",
   "execution_count": null,
   "id": "5b8d07ac",
   "metadata": {},
   "outputs": [],
   "source": []
  }
 ],
 "metadata": {
  "kernelspec": {
   "display_name": "Python 3 (ipykernel)",
   "language": "python",
   "name": "python3"
  },
  "language_info": {
   "codemirror_mode": {
    "name": "ipython",
    "version": 3
   },
   "file_extension": ".py",
   "mimetype": "text/x-python",
   "name": "python",
   "nbconvert_exporter": "python",
   "pygments_lexer": "ipython3",
   "version": "3.8.5"
  }
 },
 "nbformat": 4,
 "nbformat_minor": 5
}
